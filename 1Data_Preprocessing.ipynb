{
 "cells": [
  {
   "cell_type": "markdown",
   "metadata": {},
   "source": [
    "# Machine Learning Engineer Nanodegree 2020\n",
    "## Capstone Project\n",
    "Ashish kumar<br>February 18, 2020\n",
    "## Time Series Analysis of Air Quality Data"
   ]
  },
  {
   "cell_type": "markdown",
   "metadata": {},
   "source": [
    "## Part 1:  Data Preprocessing"
   ]
  },
  {
   "cell_type": "code",
   "execution_count": 1,
   "metadata": {},
   "outputs": [],
   "source": [
    "# import libraries\n",
    "import pandas as pd\n",
    "import numpy as np\n",
    "import os\n",
    "import math\n",
    "import glob\n",
    "import matplotlib.pyplot as plt\n",
    "%matplotlib inline\n"
   ]
  },
  {
   "cell_type": "markdown",
   "metadata": {},
   "source": [
    "## Selecting Best Dataset"
   ]
  },
  {
   "cell_type": "markdown",
   "metadata": {},
   "source": [
    "The data set includes hourly air pollutants data from 12 nationally-controlled air-quality monitoring sites. So we can choose any of the given monitoring site dataset to work upon. <br><br> Instead of randomly picking any dataset, It is better to look for the null values. Lesser the null values, better will be the predictions.<br><br> Let us build Helper function for finding the best dataset with respect to null values. The idea is to compare the average of col-wise average null values of each multi-site data file"
   ]
  },
  {
   "cell_type": "code",
   "execution_count": 2,
   "metadata": {},
   "outputs": [
    {
     "name": "stdout",
     "output_type": "stream",
     "text": [
      "PRSA_Data_Aotizhongxin_20130301-20170228.csv\n",
      "PRSA_Data_Changping_20130301-20170228.csv\n",
      "PRSA_Data_Dingling_20130301-20170228.csv\n",
      "PRSA_Data_Dongsi_20130301-20170228.csv\n",
      "PRSA_Data_Guanyuan_20130301-20170228.csv\n",
      "PRSA_Data_Gucheng_20130301-20170228.csv\n",
      "PRSA_Data_Huairou_20130301-20170228.csv\n",
      "PRSA_Data_Nongzhanguan_20130301-20170228.csv\n",
      "PRSA_Data_Shunyi_20130301-20170228.csv\n",
      "PRSA_Data_Tiantan_20130301-20170228.csv\n",
      "PRSA_Data_Wanliu_20130301-20170228.csv\n",
      "PRSA_Data_Wanshouxigong_20130301-20170228.csv\n"
     ]
    }
   ],
   "source": [
    "data_path = 'beijing-multisite-airquality-data-set'\n",
    "# storing names of all datafiles\n",
    "file_names = [file_name[len(data_path)+1:] for file_name in glob.glob(data_path + '/*.csv')]\n",
    "for file_name in file_names: print(file_name)"
   ]
  },
  {
   "cell_type": "code",
   "execution_count": 3,
   "metadata": {
    "code_folding": []
   },
   "outputs": [],
   "source": [
    "from shutil import copyfile\n",
    "\n",
    "def best_data_file(data_files, cache_file = ''):\n",
    "    \n",
    "    # create directory for storing the dataset\n",
    "    if not os.path.exists('dataset'):\n",
    "        os.mkdir('dataset')\n",
    "    \n",
    "    if os.listdir('dataset'):\n",
    "        # read from the cache file\n",
    "        cache_file = os.listdir('dataset')[0]\n",
    "        print('Reading from cache file: dataset/',cache_file, sep='')\n",
    "        return cache_file\n",
    "    \n",
    "    # Do the heavy lifting\n",
    "    best_file = ''\n",
    "    Min_average = math.inf \n",
    "    for file_name in data_files:\n",
    "        # Reading each datafile in dataframe\n",
    "        df = pd.read_csv(data_path+'/'+file_name)\n",
    "        \n",
    "        # overall average = average of (average of null value col-wise )\n",
    "        overall_average = df.isna().mean().mean()\n",
    "        if overall_average < Min_average:\n",
    "            Min_average = overall_average\n",
    "            best_file = file_name\n",
    "        # print(file_name)\n",
    "        # print(overall_average)\n",
    "        \n",
    "        # for visualizing col-wise percentages of null values\n",
    "        # print(df.isna().mean().round(4)*100)\n",
    "    \n",
    "    # copy the best file in the dataset folder\n",
    "    src = os.path.join(data_path,best_file)\n",
    "    dst = os.path.join('dataset',best_file)\n",
    "    copyfile(src,dst)\n",
    "    print('path created: '+dst)\n",
    "    return best_file"
   ]
  },
  {
   "cell_type": "code",
   "execution_count": 4,
   "metadata": {},
   "outputs": [
    {
     "name": "stdout",
     "output_type": "stream",
     "text": [
      "Reading from cache file: dataset/PRSA_Data_Nongzhanguan_20130301-20170228.csv\n"
     ]
    }
   ],
   "source": [
    "# test the function\n",
    "best_file = best_data_file(file_names)"
   ]
  },
  {
   "cell_type": "markdown",
   "metadata": {},
   "source": [
    "## Data loading and Preprocesing\n",
    "#### 1) Loading Data"
   ]
  },
  {
   "cell_type": "code",
   "execution_count": 5,
   "metadata": {},
   "outputs": [
    {
     "data": {
      "text/html": [
       "<div>\n",
       "<style scoped>\n",
       "    .dataframe tbody tr th:only-of-type {\n",
       "        vertical-align: middle;\n",
       "    }\n",
       "\n",
       "    .dataframe tbody tr th {\n",
       "        vertical-align: top;\n",
       "    }\n",
       "\n",
       "    .dataframe thead th {\n",
       "        text-align: right;\n",
       "    }\n",
       "</style>\n",
       "<table border=\"1\" class=\"dataframe\">\n",
       "  <thead>\n",
       "    <tr style=\"text-align: right;\">\n",
       "      <th></th>\n",
       "      <th>No</th>\n",
       "      <th>year</th>\n",
       "      <th>month</th>\n",
       "      <th>day</th>\n",
       "      <th>hour</th>\n",
       "      <th>PM2.5</th>\n",
       "      <th>PM10</th>\n",
       "      <th>SO2</th>\n",
       "      <th>NO2</th>\n",
       "      <th>CO</th>\n",
       "      <th>O3</th>\n",
       "      <th>TEMP</th>\n",
       "      <th>PRES</th>\n",
       "      <th>DEWP</th>\n",
       "      <th>RAIN</th>\n",
       "      <th>wd</th>\n",
       "      <th>WSPM</th>\n",
       "      <th>station</th>\n",
       "    </tr>\n",
       "  </thead>\n",
       "  <tbody>\n",
       "    <tr>\n",
       "      <th>0</th>\n",
       "      <td>1</td>\n",
       "      <td>2013</td>\n",
       "      <td>3</td>\n",
       "      <td>1</td>\n",
       "      <td>0</td>\n",
       "      <td>5.0</td>\n",
       "      <td>14.0</td>\n",
       "      <td>4.0</td>\n",
       "      <td>12.0</td>\n",
       "      <td>200.0</td>\n",
       "      <td>85.0</td>\n",
       "      <td>-0.5</td>\n",
       "      <td>1024.5</td>\n",
       "      <td>-21.4</td>\n",
       "      <td>0.0</td>\n",
       "      <td>NNW</td>\n",
       "      <td>5.7</td>\n",
       "      <td>Nongzhanguan</td>\n",
       "    </tr>\n",
       "    <tr>\n",
       "      <th>1</th>\n",
       "      <td>2</td>\n",
       "      <td>2013</td>\n",
       "      <td>3</td>\n",
       "      <td>1</td>\n",
       "      <td>1</td>\n",
       "      <td>8.0</td>\n",
       "      <td>12.0</td>\n",
       "      <td>6.0</td>\n",
       "      <td>14.0</td>\n",
       "      <td>200.0</td>\n",
       "      <td>84.0</td>\n",
       "      <td>-0.7</td>\n",
       "      <td>1025.1</td>\n",
       "      <td>-22.1</td>\n",
       "      <td>0.0</td>\n",
       "      <td>NW</td>\n",
       "      <td>3.9</td>\n",
       "      <td>Nongzhanguan</td>\n",
       "    </tr>\n",
       "    <tr>\n",
       "      <th>2</th>\n",
       "      <td>3</td>\n",
       "      <td>2013</td>\n",
       "      <td>3</td>\n",
       "      <td>1</td>\n",
       "      <td>2</td>\n",
       "      <td>3.0</td>\n",
       "      <td>6.0</td>\n",
       "      <td>5.0</td>\n",
       "      <td>14.0</td>\n",
       "      <td>200.0</td>\n",
       "      <td>83.0</td>\n",
       "      <td>-1.2</td>\n",
       "      <td>1025.3</td>\n",
       "      <td>-24.6</td>\n",
       "      <td>0.0</td>\n",
       "      <td>NNW</td>\n",
       "      <td>5.3</td>\n",
       "      <td>Nongzhanguan</td>\n",
       "    </tr>\n",
       "    <tr>\n",
       "      <th>3</th>\n",
       "      <td>4</td>\n",
       "      <td>2013</td>\n",
       "      <td>3</td>\n",
       "      <td>1</td>\n",
       "      <td>3</td>\n",
       "      <td>5.0</td>\n",
       "      <td>5.0</td>\n",
       "      <td>5.0</td>\n",
       "      <td>14.0</td>\n",
       "      <td>200.0</td>\n",
       "      <td>84.0</td>\n",
       "      <td>-1.4</td>\n",
       "      <td>1026.2</td>\n",
       "      <td>-25.5</td>\n",
       "      <td>0.0</td>\n",
       "      <td>N</td>\n",
       "      <td>4.9</td>\n",
       "      <td>Nongzhanguan</td>\n",
       "    </tr>\n",
       "    <tr>\n",
       "      <th>4</th>\n",
       "      <td>5</td>\n",
       "      <td>2013</td>\n",
       "      <td>3</td>\n",
       "      <td>1</td>\n",
       "      <td>4</td>\n",
       "      <td>5.0</td>\n",
       "      <td>5.0</td>\n",
       "      <td>6.0</td>\n",
       "      <td>21.0</td>\n",
       "      <td>200.0</td>\n",
       "      <td>77.0</td>\n",
       "      <td>-1.9</td>\n",
       "      <td>1027.1</td>\n",
       "      <td>-24.5</td>\n",
       "      <td>0.0</td>\n",
       "      <td>NNW</td>\n",
       "      <td>3.2</td>\n",
       "      <td>Nongzhanguan</td>\n",
       "    </tr>\n",
       "  </tbody>\n",
       "</table>\n",
       "</div>"
      ],
      "text/plain": [
       "   No  year  month  day  hour  PM2.5  PM10  SO2   NO2     CO    O3  TEMP  \\\n",
       "0   1  2013      3    1     0    5.0  14.0  4.0  12.0  200.0  85.0  -0.5   \n",
       "1   2  2013      3    1     1    8.0  12.0  6.0  14.0  200.0  84.0  -0.7   \n",
       "2   3  2013      3    1     2    3.0   6.0  5.0  14.0  200.0  83.0  -1.2   \n",
       "3   4  2013      3    1     3    5.0   5.0  5.0  14.0  200.0  84.0  -1.4   \n",
       "4   5  2013      3    1     4    5.0   5.0  6.0  21.0  200.0  77.0  -1.9   \n",
       "\n",
       "     PRES  DEWP  RAIN   wd  WSPM       station  \n",
       "0  1024.5 -21.4   0.0  NNW   5.7  Nongzhanguan  \n",
       "1  1025.1 -22.1   0.0   NW   3.9  Nongzhanguan  \n",
       "2  1025.3 -24.6   0.0  NNW   5.3  Nongzhanguan  \n",
       "3  1026.2 -25.5   0.0    N   4.9  Nongzhanguan  \n",
       "4  1027.1 -24.5   0.0  NNW   3.2  Nongzhanguan  "
      ]
     },
     "execution_count": 5,
     "metadata": {},
     "output_type": "execute_result"
    }
   ],
   "source": [
    "# load data\n",
    "df = pd.read_csv(os.path.join(data_path,best_file))\n",
    "df.head()"
   ]
  },
  {
   "cell_type": "markdown",
   "metadata": {},
   "source": [
    "#### 2) Indexing Data"
   ]
  },
  {
   "cell_type": "markdown",
   "metadata": {},
   "source": [
    "For time series analysis, Our data should be indexed as Date-Time. For this we will be using pandas DateTimeIndex function. It is important to note that the Time period of our data is from March 1st, 2013 to February 28th, 2017. Lets verify it before proceeding."
   ]
  },
  {
   "cell_type": "code",
   "execution_count": 6,
   "metadata": {},
   "outputs": [
    {
     "data": {
      "text/html": [
       "<div>\n",
       "<style scoped>\n",
       "    .dataframe tbody tr th:only-of-type {\n",
       "        vertical-align: middle;\n",
       "    }\n",
       "\n",
       "    .dataframe tbody tr th {\n",
       "        vertical-align: top;\n",
       "    }\n",
       "\n",
       "    .dataframe thead th {\n",
       "        text-align: right;\n",
       "    }\n",
       "</style>\n",
       "<table border=\"1\" class=\"dataframe\">\n",
       "  <thead>\n",
       "    <tr style=\"text-align: right;\">\n",
       "      <th></th>\n",
       "      <th>No</th>\n",
       "      <th>year</th>\n",
       "      <th>month</th>\n",
       "      <th>day</th>\n",
       "      <th>hour</th>\n",
       "      <th>PM2.5</th>\n",
       "      <th>PM10</th>\n",
       "      <th>SO2</th>\n",
       "      <th>NO2</th>\n",
       "      <th>CO</th>\n",
       "      <th>O3</th>\n",
       "      <th>TEMP</th>\n",
       "      <th>PRES</th>\n",
       "      <th>DEWP</th>\n",
       "      <th>RAIN</th>\n",
       "      <th>wd</th>\n",
       "      <th>WSPM</th>\n",
       "      <th>station</th>\n",
       "    </tr>\n",
       "  </thead>\n",
       "  <tbody>\n",
       "    <tr>\n",
       "      <th>0</th>\n",
       "      <td>1</td>\n",
       "      <td>2013</td>\n",
       "      <td>3</td>\n",
       "      <td>1</td>\n",
       "      <td>0</td>\n",
       "      <td>5.0</td>\n",
       "      <td>14.0</td>\n",
       "      <td>4.0</td>\n",
       "      <td>12.0</td>\n",
       "      <td>200.0</td>\n",
       "      <td>85.0</td>\n",
       "      <td>-0.5</td>\n",
       "      <td>1024.5</td>\n",
       "      <td>-21.4</td>\n",
       "      <td>0.0</td>\n",
       "      <td>NNW</td>\n",
       "      <td>5.7</td>\n",
       "      <td>Nongzhanguan</td>\n",
       "    </tr>\n",
       "  </tbody>\n",
       "</table>\n",
       "</div>"
      ],
      "text/plain": [
       "   No  year  month  day  hour  PM2.5  PM10  SO2   NO2     CO    O3  TEMP  \\\n",
       "0   1  2013      3    1     0    5.0  14.0  4.0  12.0  200.0  85.0  -0.5   \n",
       "\n",
       "     PRES  DEWP  RAIN   wd  WSPM       station  \n",
       "0  1024.5 -21.4   0.0  NNW   5.7  Nongzhanguan  "
      ]
     },
     "execution_count": 6,
     "metadata": {},
     "output_type": "execute_result"
    }
   ],
   "source": [
    "# 1st row\n",
    "df[:1]"
   ]
  },
  {
   "cell_type": "code",
   "execution_count": 7,
   "metadata": {},
   "outputs": [
    {
     "data": {
      "text/html": [
       "<div>\n",
       "<style scoped>\n",
       "    .dataframe tbody tr th:only-of-type {\n",
       "        vertical-align: middle;\n",
       "    }\n",
       "\n",
       "    .dataframe tbody tr th {\n",
       "        vertical-align: top;\n",
       "    }\n",
       "\n",
       "    .dataframe thead th {\n",
       "        text-align: right;\n",
       "    }\n",
       "</style>\n",
       "<table border=\"1\" class=\"dataframe\">\n",
       "  <thead>\n",
       "    <tr style=\"text-align: right;\">\n",
       "      <th></th>\n",
       "      <th>No</th>\n",
       "      <th>year</th>\n",
       "      <th>month</th>\n",
       "      <th>day</th>\n",
       "      <th>hour</th>\n",
       "      <th>PM2.5</th>\n",
       "      <th>PM10</th>\n",
       "      <th>SO2</th>\n",
       "      <th>NO2</th>\n",
       "      <th>CO</th>\n",
       "      <th>O3</th>\n",
       "      <th>TEMP</th>\n",
       "      <th>PRES</th>\n",
       "      <th>DEWP</th>\n",
       "      <th>RAIN</th>\n",
       "      <th>wd</th>\n",
       "      <th>WSPM</th>\n",
       "      <th>station</th>\n",
       "    </tr>\n",
       "  </thead>\n",
       "  <tbody>\n",
       "    <tr>\n",
       "      <th>35063</th>\n",
       "      <td>35064</td>\n",
       "      <td>2017</td>\n",
       "      <td>2</td>\n",
       "      <td>28</td>\n",
       "      <td>23</td>\n",
       "      <td>10.0</td>\n",
       "      <td>28.0</td>\n",
       "      <td>7.0</td>\n",
       "      <td>48.0</td>\n",
       "      <td>600.0</td>\n",
       "      <td>39.0</td>\n",
       "      <td>8.6</td>\n",
       "      <td>1014.1</td>\n",
       "      <td>-15.9</td>\n",
       "      <td>0.0</td>\n",
       "      <td>NNE</td>\n",
       "      <td>1.3</td>\n",
       "      <td>Nongzhanguan</td>\n",
       "    </tr>\n",
       "  </tbody>\n",
       "</table>\n",
       "</div>"
      ],
      "text/plain": [
       "          No  year  month  day  hour  PM2.5  PM10  SO2   NO2     CO    O3  \\\n",
       "35063  35064  2017      2   28    23   10.0  28.0  7.0  48.0  600.0  39.0   \n",
       "\n",
       "       TEMP    PRES  DEWP  RAIN   wd  WSPM       station  \n",
       "35063   8.6  1014.1 -15.9   0.0  NNE   1.3  Nongzhanguan  "
      ]
     },
     "execution_count": 7,
     "metadata": {},
     "output_type": "execute_result"
    }
   ],
   "source": [
    "# last row\n",
    "df[df.shape[0]-1:]"
   ]
  },
  {
   "cell_type": "code",
   "execution_count": 8,
   "metadata": {},
   "outputs": [
    {
     "name": "stdout",
     "output_type": "stream",
     "text": [
      "<class 'pandas.core.frame.DataFrame'>\n",
      "RangeIndex: 35064 entries, 0 to 35063\n",
      "Data columns (total 18 columns):\n",
      "No         35064 non-null int64\n",
      "year       35064 non-null int64\n",
      "month      35064 non-null int64\n",
      "day        35064 non-null int64\n",
      "hour       35064 non-null int64\n",
      "PM2.5      34436 non-null float64\n",
      "PM10       34624 non-null float64\n",
      "SO2        34618 non-null float64\n",
      "NO2        34372 non-null float64\n",
      "CO         33858 non-null float64\n",
      "O3         34558 non-null float64\n",
      "TEMP       35044 non-null float64\n",
      "PRES       35044 non-null float64\n",
      "DEWP       35044 non-null float64\n",
      "RAIN       35044 non-null float64\n",
      "wd         34986 non-null object\n",
      "WSPM       35050 non-null float64\n",
      "station    35064 non-null object\n",
      "dtypes: float64(11), int64(5), object(2)\n",
      "memory usage: 4.8+ MB\n"
     ]
    }
   ],
   "source": [
    "# check data info\n",
    "df.info()"
   ]
  },
  {
   "cell_type": "markdown",
   "metadata": {},
   "source": [
    "Since the columns year, month, day and hour didn't contain any null value, So we can use pandas DateTimeIndex function with start date-time as 2013-03-01 00:00:00 and end date-time as 2017-02-28 23:00:00. As our dataset contains hourly data so we can use freq as 'H' which stands for Hour."
   ]
  },
  {
   "cell_type": "code",
   "execution_count": 9,
   "metadata": {},
   "outputs": [],
   "source": [
    "# creating Date-Time index column\n",
    "df['Date-Time'] = pd.DatetimeIndex(start = '2013-03-01 00:00:00',end = '2017-02-28 23:00:00',freq ='H')\n",
    "# setting index as Date-Time\n",
    "df.set_index('Date-Time', drop = True, inplace = True)"
   ]
  },
  {
   "cell_type": "code",
   "execution_count": 10,
   "metadata": {},
   "outputs": [
    {
     "data": {
      "text/html": [
       "<div>\n",
       "<style scoped>\n",
       "    .dataframe tbody tr th:only-of-type {\n",
       "        vertical-align: middle;\n",
       "    }\n",
       "\n",
       "    .dataframe tbody tr th {\n",
       "        vertical-align: top;\n",
       "    }\n",
       "\n",
       "    .dataframe thead th {\n",
       "        text-align: right;\n",
       "    }\n",
       "</style>\n",
       "<table border=\"1\" class=\"dataframe\">\n",
       "  <thead>\n",
       "    <tr style=\"text-align: right;\">\n",
       "      <th></th>\n",
       "      <th>No</th>\n",
       "      <th>year</th>\n",
       "      <th>month</th>\n",
       "      <th>day</th>\n",
       "      <th>hour</th>\n",
       "      <th>PM2.5</th>\n",
       "      <th>PM10</th>\n",
       "      <th>SO2</th>\n",
       "      <th>NO2</th>\n",
       "      <th>CO</th>\n",
       "      <th>O3</th>\n",
       "      <th>TEMP</th>\n",
       "      <th>PRES</th>\n",
       "      <th>DEWP</th>\n",
       "      <th>RAIN</th>\n",
       "      <th>wd</th>\n",
       "      <th>WSPM</th>\n",
       "      <th>station</th>\n",
       "    </tr>\n",
       "    <tr>\n",
       "      <th>Date-Time</th>\n",
       "      <th></th>\n",
       "      <th></th>\n",
       "      <th></th>\n",
       "      <th></th>\n",
       "      <th></th>\n",
       "      <th></th>\n",
       "      <th></th>\n",
       "      <th></th>\n",
       "      <th></th>\n",
       "      <th></th>\n",
       "      <th></th>\n",
       "      <th></th>\n",
       "      <th></th>\n",
       "      <th></th>\n",
       "      <th></th>\n",
       "      <th></th>\n",
       "      <th></th>\n",
       "      <th></th>\n",
       "    </tr>\n",
       "  </thead>\n",
       "  <tbody>\n",
       "    <tr>\n",
       "      <th>2013-03-01 00:00:00</th>\n",
       "      <td>1</td>\n",
       "      <td>2013</td>\n",
       "      <td>3</td>\n",
       "      <td>1</td>\n",
       "      <td>0</td>\n",
       "      <td>5.0</td>\n",
       "      <td>14.0</td>\n",
       "      <td>4.0</td>\n",
       "      <td>12.0</td>\n",
       "      <td>200.0</td>\n",
       "      <td>85.0</td>\n",
       "      <td>-0.5</td>\n",
       "      <td>1024.5</td>\n",
       "      <td>-21.4</td>\n",
       "      <td>0.0</td>\n",
       "      <td>NNW</td>\n",
       "      <td>5.7</td>\n",
       "      <td>Nongzhanguan</td>\n",
       "    </tr>\n",
       "    <tr>\n",
       "      <th>2013-03-01 01:00:00</th>\n",
       "      <td>2</td>\n",
       "      <td>2013</td>\n",
       "      <td>3</td>\n",
       "      <td>1</td>\n",
       "      <td>1</td>\n",
       "      <td>8.0</td>\n",
       "      <td>12.0</td>\n",
       "      <td>6.0</td>\n",
       "      <td>14.0</td>\n",
       "      <td>200.0</td>\n",
       "      <td>84.0</td>\n",
       "      <td>-0.7</td>\n",
       "      <td>1025.1</td>\n",
       "      <td>-22.1</td>\n",
       "      <td>0.0</td>\n",
       "      <td>NW</td>\n",
       "      <td>3.9</td>\n",
       "      <td>Nongzhanguan</td>\n",
       "    </tr>\n",
       "    <tr>\n",
       "      <th>2013-03-01 02:00:00</th>\n",
       "      <td>3</td>\n",
       "      <td>2013</td>\n",
       "      <td>3</td>\n",
       "      <td>1</td>\n",
       "      <td>2</td>\n",
       "      <td>3.0</td>\n",
       "      <td>6.0</td>\n",
       "      <td>5.0</td>\n",
       "      <td>14.0</td>\n",
       "      <td>200.0</td>\n",
       "      <td>83.0</td>\n",
       "      <td>-1.2</td>\n",
       "      <td>1025.3</td>\n",
       "      <td>-24.6</td>\n",
       "      <td>0.0</td>\n",
       "      <td>NNW</td>\n",
       "      <td>5.3</td>\n",
       "      <td>Nongzhanguan</td>\n",
       "    </tr>\n",
       "    <tr>\n",
       "      <th>2013-03-01 03:00:00</th>\n",
       "      <td>4</td>\n",
       "      <td>2013</td>\n",
       "      <td>3</td>\n",
       "      <td>1</td>\n",
       "      <td>3</td>\n",
       "      <td>5.0</td>\n",
       "      <td>5.0</td>\n",
       "      <td>5.0</td>\n",
       "      <td>14.0</td>\n",
       "      <td>200.0</td>\n",
       "      <td>84.0</td>\n",
       "      <td>-1.4</td>\n",
       "      <td>1026.2</td>\n",
       "      <td>-25.5</td>\n",
       "      <td>0.0</td>\n",
       "      <td>N</td>\n",
       "      <td>4.9</td>\n",
       "      <td>Nongzhanguan</td>\n",
       "    </tr>\n",
       "    <tr>\n",
       "      <th>2013-03-01 04:00:00</th>\n",
       "      <td>5</td>\n",
       "      <td>2013</td>\n",
       "      <td>3</td>\n",
       "      <td>1</td>\n",
       "      <td>4</td>\n",
       "      <td>5.0</td>\n",
       "      <td>5.0</td>\n",
       "      <td>6.0</td>\n",
       "      <td>21.0</td>\n",
       "      <td>200.0</td>\n",
       "      <td>77.0</td>\n",
       "      <td>-1.9</td>\n",
       "      <td>1027.1</td>\n",
       "      <td>-24.5</td>\n",
       "      <td>0.0</td>\n",
       "      <td>NNW</td>\n",
       "      <td>3.2</td>\n",
       "      <td>Nongzhanguan</td>\n",
       "    </tr>\n",
       "  </tbody>\n",
       "</table>\n",
       "</div>"
      ],
      "text/plain": [
       "                     No  year  month  day  hour  PM2.5  PM10  SO2   NO2  \\\n",
       "Date-Time                                                                 \n",
       "2013-03-01 00:00:00   1  2013      3    1     0    5.0  14.0  4.0  12.0   \n",
       "2013-03-01 01:00:00   2  2013      3    1     1    8.0  12.0  6.0  14.0   \n",
       "2013-03-01 02:00:00   3  2013      3    1     2    3.0   6.0  5.0  14.0   \n",
       "2013-03-01 03:00:00   4  2013      3    1     3    5.0   5.0  5.0  14.0   \n",
       "2013-03-01 04:00:00   5  2013      3    1     4    5.0   5.0  6.0  21.0   \n",
       "\n",
       "                        CO    O3  TEMP    PRES  DEWP  RAIN   wd  WSPM  \\\n",
       "Date-Time                                                               \n",
       "2013-03-01 00:00:00  200.0  85.0  -0.5  1024.5 -21.4   0.0  NNW   5.7   \n",
       "2013-03-01 01:00:00  200.0  84.0  -0.7  1025.1 -22.1   0.0   NW   3.9   \n",
       "2013-03-01 02:00:00  200.0  83.0  -1.2  1025.3 -24.6   0.0  NNW   5.3   \n",
       "2013-03-01 03:00:00  200.0  84.0  -1.4  1026.2 -25.5   0.0    N   4.9   \n",
       "2013-03-01 04:00:00  200.0  77.0  -1.9  1027.1 -24.5   0.0  NNW   3.2   \n",
       "\n",
       "                          station  \n",
       "Date-Time                          \n",
       "2013-03-01 00:00:00  Nongzhanguan  \n",
       "2013-03-01 01:00:00  Nongzhanguan  \n",
       "2013-03-01 02:00:00  Nongzhanguan  \n",
       "2013-03-01 03:00:00  Nongzhanguan  \n",
       "2013-03-01 04:00:00  Nongzhanguan  "
      ]
     },
     "execution_count": 10,
     "metadata": {},
     "output_type": "execute_result"
    }
   ],
   "source": [
    "df.head()"
   ]
  },
  {
   "cell_type": "markdown",
   "metadata": {},
   "source": [
    "#### 3) Removing unwanted columns"
   ]
  },
  {
   "cell_type": "markdown",
   "metadata": {},
   "source": [
    "Since we are intrested in time-series analysis of air pollutants We should remove unwanted columns.\n",
    "The six major air-pollutants are:\n",
    "1) PM2.5\n",
    "2) PM10\n",
    "3) SO2\n",
    "4) NO2\n",
    "5) CO\n",
    "6) O3\n",
    "<br>Rest of the columns need to be ommited\n"
   ]
  },
  {
   "cell_type": "code",
   "execution_count": 11,
   "metadata": {},
   "outputs": [],
   "source": [
    "wanted_col = ['PM2.5','PM10','SO2','NO2','CO','O3']\n",
    "df = df[wanted_col]"
   ]
  },
  {
   "cell_type": "code",
   "execution_count": 12,
   "metadata": {},
   "outputs": [
    {
     "data": {
      "text/html": [
       "<div>\n",
       "<style scoped>\n",
       "    .dataframe tbody tr th:only-of-type {\n",
       "        vertical-align: middle;\n",
       "    }\n",
       "\n",
       "    .dataframe tbody tr th {\n",
       "        vertical-align: top;\n",
       "    }\n",
       "\n",
       "    .dataframe thead th {\n",
       "        text-align: right;\n",
       "    }\n",
       "</style>\n",
       "<table border=\"1\" class=\"dataframe\">\n",
       "  <thead>\n",
       "    <tr style=\"text-align: right;\">\n",
       "      <th></th>\n",
       "      <th>PM2.5</th>\n",
       "      <th>PM10</th>\n",
       "      <th>SO2</th>\n",
       "      <th>NO2</th>\n",
       "      <th>CO</th>\n",
       "      <th>O3</th>\n",
       "    </tr>\n",
       "    <tr>\n",
       "      <th>Date-Time</th>\n",
       "      <th></th>\n",
       "      <th></th>\n",
       "      <th></th>\n",
       "      <th></th>\n",
       "      <th></th>\n",
       "      <th></th>\n",
       "    </tr>\n",
       "  </thead>\n",
       "  <tbody>\n",
       "    <tr>\n",
       "      <th>2013-03-01 00:00:00</th>\n",
       "      <td>5.0</td>\n",
       "      <td>14.0</td>\n",
       "      <td>4.0</td>\n",
       "      <td>12.0</td>\n",
       "      <td>200.0</td>\n",
       "      <td>85.0</td>\n",
       "    </tr>\n",
       "    <tr>\n",
       "      <th>2013-03-01 01:00:00</th>\n",
       "      <td>8.0</td>\n",
       "      <td>12.0</td>\n",
       "      <td>6.0</td>\n",
       "      <td>14.0</td>\n",
       "      <td>200.0</td>\n",
       "      <td>84.0</td>\n",
       "    </tr>\n",
       "    <tr>\n",
       "      <th>2013-03-01 02:00:00</th>\n",
       "      <td>3.0</td>\n",
       "      <td>6.0</td>\n",
       "      <td>5.0</td>\n",
       "      <td>14.0</td>\n",
       "      <td>200.0</td>\n",
       "      <td>83.0</td>\n",
       "    </tr>\n",
       "    <tr>\n",
       "      <th>2013-03-01 03:00:00</th>\n",
       "      <td>5.0</td>\n",
       "      <td>5.0</td>\n",
       "      <td>5.0</td>\n",
       "      <td>14.0</td>\n",
       "      <td>200.0</td>\n",
       "      <td>84.0</td>\n",
       "    </tr>\n",
       "    <tr>\n",
       "      <th>2013-03-01 04:00:00</th>\n",
       "      <td>5.0</td>\n",
       "      <td>5.0</td>\n",
       "      <td>6.0</td>\n",
       "      <td>21.0</td>\n",
       "      <td>200.0</td>\n",
       "      <td>77.0</td>\n",
       "    </tr>\n",
       "  </tbody>\n",
       "</table>\n",
       "</div>"
      ],
      "text/plain": [
       "                     PM2.5  PM10  SO2   NO2     CO    O3\n",
       "Date-Time                                               \n",
       "2013-03-01 00:00:00    5.0  14.0  4.0  12.0  200.0  85.0\n",
       "2013-03-01 01:00:00    8.0  12.0  6.0  14.0  200.0  84.0\n",
       "2013-03-01 02:00:00    3.0   6.0  5.0  14.0  200.0  83.0\n",
       "2013-03-01 03:00:00    5.0   5.0  5.0  14.0  200.0  84.0\n",
       "2013-03-01 04:00:00    5.0   5.0  6.0  21.0  200.0  77.0"
      ]
     },
     "execution_count": 12,
     "metadata": {},
     "output_type": "execute_result"
    }
   ],
   "source": [
    "df.head()"
   ]
  },
  {
   "cell_type": "markdown",
   "metadata": {},
   "source": [
    "#### 4) Handling Null values"
   ]
  },
  {
   "cell_type": "markdown",
   "metadata": {},
   "source": [
    "We can handle null values for Time-series data using the following ways:<br>\n",
    "##### By simply dropping\n",
    "<br>We can simply drop the rows containing null values. But dropping null values is not always a good choice. We could miss important data points necessary for predictions. A better way is imputing values intead of dropping.<br>\n",
    "##### By imputing values\n",
    "<br>\n",
    "<b>1) using mean </b><br> We can replace null values with mean value by particular month, year or the entire column. This may not be the best choice always especially if we are going to make several short and long time-series <br><br>\n",
    "<b>2) using foreward fill</b><br> We can use pandas ffill() method for filling null values with next row not null value<br><br>\n",
    "<b>3) using backward fill</b><br> We can use pandas bfill() method for filling null values with previous row not null value<br><br>\n",
    "<b>4) using Interpolation </b><br>We can use Interpolate method of pandas to fill values according to different methods.<br>\n",
    "I will be using linear Interpolate method which will fill null values with linear transition.  "
   ]
  },
  {
   "cell_type": "code",
   "execution_count": 13,
   "metadata": {},
   "outputs": [
    {
     "data": {
      "text/plain": [
       "PM2.5     628\n",
       "PM10      440\n",
       "SO2       446\n",
       "NO2       692\n",
       "CO       1206\n",
       "O3        506\n",
       "dtype: int64"
      ]
     },
     "execution_count": 13,
     "metadata": {},
     "output_type": "execute_result"
    }
   ],
   "source": [
    "# let us check column-wise null values: before\n",
    "df.isnull().sum()"
   ]
  },
  {
   "cell_type": "code",
   "execution_count": 14,
   "metadata": {},
   "outputs": [],
   "source": [
    "# let us apply interpolation\n",
    "cleaned_df = df.interpolate()"
   ]
  },
  {
   "cell_type": "code",
   "execution_count": 15,
   "metadata": {},
   "outputs": [
    {
     "data": {
      "text/plain": [
       "PM2.5    0\n",
       "PM10     0\n",
       "SO2      0\n",
       "NO2      0\n",
       "CO       0\n",
       "O3       0\n",
       "dtype: int64"
      ]
     },
     "execution_count": 15,
     "metadata": {},
     "output_type": "execute_result"
    }
   ],
   "source": [
    "# column-wise null values: after\n",
    "cleaned_df.isnull().sum()"
   ]
  },
  {
   "cell_type": "code",
   "execution_count": 16,
   "metadata": {},
   "outputs": [],
   "source": [
    "# remove dataframes that are no longer required to save memory\n",
    "del df"
   ]
  },
  {
   "cell_type": "markdown",
   "metadata": {},
   "source": [
    "Now we will create six data frames for the pollutants PM2.5, PM10, SO2, NO2, CO and O3 for Time-Series analysis."
   ]
  },
  {
   "cell_type": "code",
   "execution_count": 57,
   "metadata": {},
   "outputs": [],
   "source": [
    "# creating data-frame for PM2.5\n",
    "df_PM25 = cleaned_df[['PM2.5']]\n",
    "# creating data-frame for PM10\n",
    "df_PM10 = cleaned_df[['PM10']]\n",
    "# creating data-frame for SO2\n",
    "df_SO2 = cleaned_df[['SO2']]\n",
    "# creating data-frame for NO2\n",
    "df_NO2 = cleaned_df[['NO2']]\n",
    "# creating data-frame for CO\n",
    "df_CO = cleaned_df[['CO']]\n",
    "# creating data-frame for O3\n",
    "df_O3 = cleaned_df[['O3']]"
   ]
  },
  {
   "cell_type": "code",
   "execution_count": 18,
   "metadata": {
    "scrolled": true
   },
   "outputs": [
    {
     "data": {
      "text/plain": [
       "[<matplotlib.axes._subplots.AxesSubplot at 0x2322477fba8>,\n",
       " <matplotlib.axes._subplots.AxesSubplot at 0x23224648518>,\n",
       " <matplotlib.axes._subplots.AxesSubplot at 0x23224672550>,\n",
       " <matplotlib.axes._subplots.AxesSubplot at 0x232246df588>,\n",
       " <matplotlib.axes._subplots.AxesSubplot at 0x2322478a4e0>,\n",
       " <matplotlib.axes._subplots.AxesSubplot at 0x232247b5518>]"
      ]
     },
     "execution_count": 18,
     "metadata": {},
     "output_type": "execute_result"
    },
    {
     "data": {
      "image/png": "[encoded data removed]",
      "text/plain": [
       "<Figure size 720x1440 with 6 Axes>"
      ]
     },
     "metadata": {
      "needs_background": "light"
     },
     "output_type": "display_data"
    }
   ],
   "source": [
    "# let us visualize our created dataframes\n",
    "df_list = [df_PM25, df_PM10, df_SO2, df_NO2, df_CO, df_O3]\n",
    "fig, axes = plt.subplots(nrows = 6, ncols = 1, constrained_layout = True)\n",
    "[df_list[i].plot(ax = axes[i], figsize = (10,20), title = df_list[i].columns[0]) for i in range(len(df_list))]"
   ]
  },
  {
   "cell_type": "markdown",
   "metadata": {},
   "source": [
    "Now it's time to split our time series data into Train and Test sets.<br><br> '***' It's important to note that we can't randomly split our data into train-test sets like other machine learning tasks like classification etc. This is because, we need data in sequential order with respect to time.'***' <br><br> Recall that the Time-period of our data was from March 1st, 2013 to February 28th, 2017. <br>Now it completely depends on us to either make several weekly or monthly short time series(Train-Test sets) to predict data hourly or weekly. Or we can make a long time series(say a yearly time series of Train-Test data) to predict data for several months. Since we have the plenty of data I will proceed with later-choice.<br><br>\n",
    "Before splitting our data lets take a deep look at our data. Let's see PM2.5 data."
   ]
  },
  {
   "cell_type": "code",
   "execution_count": 19,
   "metadata": {
    "scrolled": true
   },
   "outputs": [
    {
     "data": {
      "text/plain": [
       "<matplotlib.axes._subplots.AxesSubplot at 0x23229d33860>"
      ]
     },
     "execution_count": 19,
     "metadata": {},
     "output_type": "execute_result"
    },
    {
     "data": {
      "image/png": "[encoded data removed]",
      "text/plain": [
       "<Figure size 1080x360 with 1 Axes>"
      ]
     },
     "metadata": {
      "needs_background": "light"
     },
     "output_type": "display_data"
    }
   ],
   "source": [
    "# plotting PM2.5 data\n",
    "df_PM25.plot(figsize=(15,5))"
   ]
  },
  {
   "cell_type": "markdown",
   "metadata": {},
   "source": [
    "That's a lot of data to see. This is because the data is collected hourly. Let's take a look over 1st-day data."
   ]
  },
  {
   "cell_type": "code",
   "execution_count": 20,
   "metadata": {
    "scrolled": true
   },
   "outputs": [
    {
     "data": {
      "text/plain": [
       "<matplotlib.axes._subplots.AxesSubplot at 0x23229b29710>"
      ]
     },
     "execution_count": 20,
     "metadata": {},
     "output_type": "execute_result"
    },
    {
     "data": {
      "image/png": "[encoded data removed]",
      "text/plain": [
       "<Figure size 432x288 with 1 Axes>"
      ]
     },
     "metadata": {
      "needs_background": "light"
     },
     "output_type": "display_data"
    }
   ],
   "source": [
    "# plotting 1st day 24 hour data\n",
    "df_PM25[:24].plot()"
   ]
  },
  {
   "cell_type": "markdown",
   "metadata": {},
   "source": [
    " #### Resampling data to 'Daily' and 'Monthly' from 'Hourly'\n",
    " Since we are going to make a long time series its better to resample our data from Hourly to Daily and Monthly.\n",
    " We will use pandas time series tools to resample points at frequency like every day ('D') or start month ('MS'), etc."
   ]
  },
  {
   "cell_type": "code",
   "execution_count": 58,
   "metadata": {},
   "outputs": [],
   "source": [
    "# function for resampling each dataframe based on frequency\n",
    "def resample_data(dfs, freq = 'D'):\n",
    "    '''\n",
    "        dfs: list of dataframes\n",
    "        freq: frequency for resampling data, 'D' for Day\n",
    "        return: list of resampled dataframes\n",
    "        \n",
    "        Note: 1) if freq is 'D' then resampling is done by taking average of hours.\n",
    "              2) if freq is 'MS' then resampling is done by taking monthly average\n",
    "                 of maximum values in a day\n",
    "    \n",
    "    '''\n",
    "    if freq == 'D':\n",
    "        return [each_df.resample(freq).mean() for each_df in dfs] \n",
    "    else:\n",
    "        return [each_df.resample('D').max().resample(freq).mean() for each_df in dfs]"
   ]
  },
  {
   "cell_type": "code",
   "execution_count": 59,
   "metadata": {},
   "outputs": [],
   "source": [
    "# df_list = [df_PM25, df_PM10, df_SO2, df_NO2, df_CO, df_O3\n",
    "# Resampling dataframes by daily\n",
    "df_PM25, df_PM10, df_SO2, df_NO2, df_CO, df_O3 = resample_data(df_list)\n",
    "\n",
    "# Resampling dataframes by monthly\n",
    "dfm_PM25, dfm_PM10, dfm_SO2, dfm_NO2, dfm_CO, dfm_O3 = resample_data(df_list, freq = 'MS')\n",
    "\n",
    "# updating df_list of daily pollutants\n",
    "df_list = [df_PM25, df_PM10, df_SO2, df_NO2, df_CO, df_O3]\n",
    "\n",
    "# creating dfm_list for monthly pollutants\n",
    "dfm_list = [dfm_PM25, dfm_PM10, dfm_SO2, dfm_NO2, dfm_CO, dfm_O3]"
   ]
  },
  {
   "cell_type": "code",
   "execution_count": 60,
   "metadata": {},
   "outputs": [
    {
     "data": {
      "text/html": [
       "<div>\n",
       "<style scoped>\n",
       "    .dataframe tbody tr th:only-of-type {\n",
       "        vertical-align: middle;\n",
       "    }\n",
       "\n",
       "    .dataframe tbody tr th {\n",
       "        vertical-align: top;\n",
       "    }\n",
       "\n",
       "    .dataframe thead th {\n",
       "        text-align: right;\n",
       "    }\n",
       "</style>\n",
       "<table border=\"1\" class=\"dataframe\">\n",
       "  <thead>\n",
       "    <tr style=\"text-align: right;\">\n",
       "      <th></th>\n",
       "      <th>PM2.5</th>\n",
       "    </tr>\n",
       "    <tr>\n",
       "      <th>Date-Time</th>\n",
       "      <th></th>\n",
       "    </tr>\n",
       "  </thead>\n",
       "  <tbody>\n",
       "    <tr>\n",
       "      <th>2013-03-01</th>\n",
       "      <td>6.458333</td>\n",
       "    </tr>\n",
       "    <tr>\n",
       "      <th>2013-03-02</th>\n",
       "      <td>28.750000</td>\n",
       "    </tr>\n",
       "    <tr>\n",
       "      <th>2013-03-03</th>\n",
       "      <td>104.750000</td>\n",
       "    </tr>\n",
       "    <tr>\n",
       "      <th>2013-03-04</th>\n",
       "      <td>22.875000</td>\n",
       "    </tr>\n",
       "    <tr>\n",
       "      <th>2013-03-05</th>\n",
       "      <td>131.833333</td>\n",
       "    </tr>\n",
       "  </tbody>\n",
       "</table>\n",
       "</div>"
      ],
      "text/plain": [
       "                 PM2.5\n",
       "Date-Time             \n",
       "2013-03-01    6.458333\n",
       "2013-03-02   28.750000\n",
       "2013-03-03  104.750000\n",
       "2013-03-04   22.875000\n",
       "2013-03-05  131.833333"
      ]
     },
     "execution_count": 60,
     "metadata": {},
     "output_type": "execute_result"
    }
   ],
   "source": [
    "# lets us see the change in frequency from Hourly to Daily\n",
    "df_PM25.head()"
   ]
  },
  {
   "cell_type": "code",
   "execution_count": 61,
   "metadata": {},
   "outputs": [
    {
     "data": {
      "text/html": [
       "<div>\n",
       "<style scoped>\n",
       "    .dataframe tbody tr th:only-of-type {\n",
       "        vertical-align: middle;\n",
       "    }\n",
       "\n",
       "    .dataframe tbody tr th {\n",
       "        vertical-align: top;\n",
       "    }\n",
       "\n",
       "    .dataframe thead th {\n",
       "        text-align: right;\n",
       "    }\n",
       "</style>\n",
       "<table border=\"1\" class=\"dataframe\">\n",
       "  <thead>\n",
       "    <tr style=\"text-align: right;\">\n",
       "      <th></th>\n",
       "      <th>PM2.5</th>\n",
       "    </tr>\n",
       "    <tr>\n",
       "      <th>Date-Time</th>\n",
       "      <th></th>\n",
       "    </tr>\n",
       "  </thead>\n",
       "  <tbody>\n",
       "    <tr>\n",
       "      <th>2013-03-01</th>\n",
       "      <td>106.770161</td>\n",
       "    </tr>\n",
       "    <tr>\n",
       "      <th>2013-04-01</th>\n",
       "      <td>57.350000</td>\n",
       "    </tr>\n",
       "    <tr>\n",
       "      <th>2013-05-01</th>\n",
       "      <td>77.247312</td>\n",
       "    </tr>\n",
       "    <tr>\n",
       "      <th>2013-06-01</th>\n",
       "      <td>108.320139</td>\n",
       "    </tr>\n",
       "    <tr>\n",
       "      <th>2013-07-01</th>\n",
       "      <td>75.435484</td>\n",
       "    </tr>\n",
       "  </tbody>\n",
       "</table>\n",
       "</div>"
      ],
      "text/plain": [
       "                 PM2.5\n",
       "Date-Time             \n",
       "2013-03-01  106.770161\n",
       "2013-04-01   57.350000\n",
       "2013-05-01   77.247312\n",
       "2013-06-01  108.320139\n",
       "2013-07-01   75.435484"
      ]
     },
     "execution_count": 61,
     "metadata": {},
     "output_type": "execute_result"
    }
   ],
   "source": [
    "# lets us see the change in frequency from Hourly to Monthly\n",
    "dfm_PM25.head()"
   ]
  },
  {
   "cell_type": "code",
   "execution_count": 81,
   "metadata": {
    "scrolled": true
   },
   "outputs": [
    {
     "data": {
      "image/png": "[encoded data removed]",
      "text/plain": [
       "<Figure size 720x504 with 3 Axes>"
      ]
     },
     "metadata": {
      "needs_background": "light"
     },
     "output_type": "display_data"
    }
   ],
   "source": [
    "# let us quickly compare hourly, daily and monthly data of PM2.5\n",
    "fig, axes = plt.subplots(nrows = 3, ncols = 1, constrained_layout = True)\n",
    "cleaned_df['PM2.5'].plot(figsize=(10,7), title = 'Hourly PM2.5', ax = axes[0])\n",
    "#plt.show()\n",
    "df_PM25.plot(figsize=(10,7), title = 'Daily PM2.5',ax = axes[1])\n",
    "#plt.show()\n",
    "dfm_PM25.plot(figsize=(10,7), title = 'Monthly PM2.5',ax= axes[2])\n",
    "plt.show()"
   ]
  },
  {
   "cell_type": "markdown",
   "metadata": {},
   "source": [
    "Before applying Time-Series models We need to check whether our data is stationary or not.<br><br>\n",
    "Note: We can still apply Seasonal ARIMA to non-stationary data but for applying LSTM we need datasets to be stationary.\n",
    "We can check data stationarity using two tests:<br>1) ADF (Augmented Dickey Fuller) Test<br>2) KPSS  (Kwiatkowski-Phillips-Schmidt-Shin) Test<br> We will use the code to test ADF and KPSS from the site https://www.analyticsvidhya.com/blog/2018/09/non-stationary-time-series-python/\n",
    "\n",
    "### Checking for Data Stationarity"
   ]
  },
  {
   "cell_type": "code",
   "execution_count": 24,
   "metadata": {},
   "outputs": [],
   "source": [
    "#define function for ADF test\n",
    "from statsmodels.tsa.stattools import adfuller\n",
    "def adf_test(timeseries):\n",
    "    #Perform Dickey-Fuller test:\n",
    "    print ('Results of Dickey-Fuller Test:')\n",
    "    dftest = adfuller(timeseries, autolag='AIC')\n",
    "    dfoutput = pd.Series(dftest[0:4], index=['Test Statistic','p-value','#Lags Used','Number of Observations Used'])\n",
    "    for key,value in dftest[4].items():\n",
    "        dfoutput['Critical Value (%s)'%key] = np.format_float_positional(np.float16(value), unique=False, precision=4)\n",
    "    print (dfoutput)\n",
    "\n"
   ]
  },
  {
   "cell_type": "markdown",
   "metadata": {},
   "source": [
    "<b>Test for stationarity(ADF):</b> If the test statistic is less than the critical value, we can reject the null hypothesis. When the test statistic is greater than the critical value, we fail to reject the null hypothesis (which means the series is not stationary)."
   ]
  },
  {
   "cell_type": "markdown",
   "metadata": {},
   "source": [
    "#### KPSS test for Data Stationarity"
   ]
  },
  {
   "cell_type": "code",
   "execution_count": 25,
   "metadata": {},
   "outputs": [],
   "source": [
    "#define function for kpss test\n",
    "from statsmodels.tsa.stattools import kpss\n",
    "#define KPSS\n",
    "def kpss_test(timeseries):\n",
    "    print ('Results of KPSS Test:')\n",
    "    kpsstest = kpss(timeseries, regression='c')\n",
    "    kpss_output = pd.Series(kpsstest[0:3], index=['Test Statistic','p-value','Lags Used'])\n",
    "    for key,value in kpsstest[3].items():\n",
    "        kpss_output['Critical Value (%s)'%key] = np.format_float_positional(np.float16(value), unique=False, precision=4)\n",
    "    print (kpss_output)\n",
    "    "
   ]
  },
  {
   "cell_type": "markdown",
   "metadata": {},
   "source": [
    "<b>Test for stationarity(KPSS):</b> If the test statistic is greater than the critical value, we reject the null hypothesis (series is not stationary). If the test statistic is less than the critical value, if fail to reject the null hypothesis (series is stationary)."
   ]
  },
  {
   "cell_type": "code",
   "execution_count": 26,
   "metadata": {
    "scrolled": true
   },
   "outputs": [
    {
     "name": "stdout",
     "output_type": "stream",
     "text": [
      "\n",
      " PM2.5 \n",
      "\n",
      "Results of Dickey-Fuller Test:\n",
      "Test Statistic                    -17.4609\n",
      "p-value                        4.59765e-30\n",
      "#Lags Used                               2\n",
      "Number of Observations Used           1458\n",
      "Critical Value (1%)                -3.4355\n",
      "Critical Value (5%)                -2.8633\n",
      "Critical Value (10%)               -2.5684\n",
      "dtype: object\n",
      "\n",
      "Results of KPSS Test:\n",
      "Test Statistic           0.111263\n",
      "p-value                       0.1\n",
      "Lags Used                      24\n",
      "Critical Value (10%)       0.3469\n",
      "Critical Value (5%)        0.4629\n",
      "Critical Value (2.5%)      0.5742\n",
      "Critical Value (1%)        0.7388\n",
      "dtype: object\n",
      "\n",
      " PM10 \n",
      "\n",
      "Results of Dickey-Fuller Test:\n"
     ]
    },
    {
     "name": "stderr",
     "output_type": "stream",
     "text": [
      "C:\\ProgramData\\Anaconda3\\lib\\site-packages\\statsmodels\\tsa\\stattools.py:1278: InterpolationWarning: p-value is greater than the indicated p-value\n",
      "  warn(\"p-value is greater than the indicated p-value\", InterpolationWarning)\n"
     ]
    },
    {
     "name": "stdout",
     "output_type": "stream",
     "text": [
      "Test Statistic                    -8.94122\n",
      "p-value                        9.24237e-15\n",
      "#Lags Used                               9\n",
      "Number of Observations Used           1451\n",
      "Critical Value (1%)                -3.4355\n",
      "Critical Value (5%)                -2.8633\n",
      "Critical Value (10%)               -2.5684\n",
      "dtype: object\n",
      "\n",
      "Results of KPSS Test:\n",
      "Test Statistic           0.270705\n",
      "p-value                       0.1\n",
      "Lags Used                      24\n",
      "Critical Value (10%)       0.3469\n",
      "Critical Value (5%)        0.4629\n",
      "Critical Value (2.5%)      0.5742\n",
      "Critical Value (1%)        0.7388\n",
      "dtype: object\n",
      "\n",
      " SO2 \n",
      "\n",
      "Results of Dickey-Fuller Test:\n"
     ]
    },
    {
     "name": "stderr",
     "output_type": "stream",
     "text": [
      "C:\\ProgramData\\Anaconda3\\lib\\site-packages\\statsmodels\\tsa\\stattools.py:1278: InterpolationWarning: p-value is greater than the indicated p-value\n",
      "  warn(\"p-value is greater than the indicated p-value\", InterpolationWarning)\n"
     ]
    },
    {
     "name": "stdout",
     "output_type": "stream",
     "text": [
      "Test Statistic                   -3.99429\n",
      "p-value                        0.00144072\n",
      "#Lags Used                             16\n",
      "Number of Observations Used          1444\n",
      "Critical Value (1%)               -3.4355\n",
      "Critical Value (5%)               -2.8633\n",
      "Critical Value (10%)              -2.5684\n",
      "dtype: object\n",
      "\n",
      "Results of KPSS Test:\n",
      "Test Statistic           1.08452\n",
      "p-value                     0.01\n",
      "Lags Used                     24\n",
      "Critical Value (10%)      0.3469\n",
      "Critical Value (5%)       0.4629\n",
      "Critical Value (2.5%)     0.5742\n",
      "Critical Value (1%)       0.7388\n",
      "dtype: object\n",
      "\n",
      " NO2 \n",
      "\n",
      "Results of Dickey-Fuller Test:\n",
      "Test Statistic                    -6.16123\n",
      "p-value                        7.16599e-08\n",
      "#Lags Used                              12\n",
      "Number of Observations Used           1448\n",
      "Critical Value (1%)                -3.4355\n",
      "Critical Value (5%)                -2.8633\n",
      "Critical Value (10%)               -2.5684\n",
      "dtype: object"
     ]
    },
    {
     "name": "stderr",
     "output_type": "stream",
     "text": [
      "C:\\ProgramData\\Anaconda3\\lib\\site-packages\\statsmodels\\tsa\\stattools.py:1276: InterpolationWarning: p-value is smaller than the indicated p-value\n",
      "  warn(\"p-value is smaller than the indicated p-value\", InterpolationWarning)\n"
     ]
    },
    {
     "name": "stdout",
     "output_type": "stream",
     "text": [
      "\n",
      "\n",
      "Results of KPSS Test:\n",
      "Test Statistic           0.226807\n",
      "p-value                       0.1\n",
      "Lags Used                      24\n",
      "Critical Value (10%)       0.3469\n",
      "Critical Value (5%)        0.4629\n",
      "Critical Value (2.5%)      0.5742\n",
      "Critical Value (1%)        0.7388\n",
      "dtype: object\n",
      "\n",
      " CO \n",
      "\n",
      "Results of Dickey-Fuller Test:\n",
      "Test Statistic                    -5.82588\n",
      "p-value                        4.08059e-07\n",
      "#Lags Used                              12\n",
      "Number of Observations Used           1448\n",
      "Critical Value (1%)                -3.4355\n",
      "Critical Value (5%)                -2.8633\n",
      "Critical Value (10%)               -2.5684\n",
      "dtype: object"
     ]
    },
    {
     "name": "stderr",
     "output_type": "stream",
     "text": [
      "C:\\ProgramData\\Anaconda3\\lib\\site-packages\\statsmodels\\tsa\\stattools.py:1278: InterpolationWarning: p-value is greater than the indicated p-value\n",
      "  warn(\"p-value is greater than the indicated p-value\", InterpolationWarning)\n"
     ]
    },
    {
     "name": "stdout",
     "output_type": "stream",
     "text": [
      "\n",
      "\n",
      "Results of KPSS Test:\n",
      "Test Statistic           0.088452\n",
      "p-value                       0.1\n",
      "Lags Used                      24\n",
      "Critical Value (10%)       0.3469\n",
      "Critical Value (5%)        0.4629\n",
      "Critical Value (2.5%)      0.5742\n",
      "Critical Value (1%)        0.7388\n",
      "dtype: object\n",
      "\n",
      " O3 \n",
      "\n",
      "Results of Dickey-Fuller Test:\n",
      "Test Statistic                 -2.54531\n",
      "p-value                        0.104836\n",
      "#Lags Used                           16\n",
      "Number of Observations Used        1444\n",
      "Critical Value (1%)             -3.4355\n",
      "Critical Value (5%)             -2.8633\n",
      "Critical Value (10%)            -2.5684\n",
      "dtype: object"
     ]
    },
    {
     "name": "stderr",
     "output_type": "stream",
     "text": [
      "C:\\ProgramData\\Anaconda3\\lib\\site-packages\\statsmodels\\tsa\\stattools.py:1278: InterpolationWarning: p-value is greater than the indicated p-value\n",
      "  warn(\"p-value is greater than the indicated p-value\", InterpolationWarning)\n"
     ]
    },
    {
     "name": "stdout",
     "output_type": "stream",
     "text": [
      "\n",
      "\n",
      "Results of KPSS Test:\n",
      "Test Statistic           0.132139\n",
      "p-value                       0.1\n",
      "Lags Used                      24\n",
      "Critical Value (10%)       0.3469\n",
      "Critical Value (5%)        0.4629\n",
      "Critical Value (2.5%)      0.5742\n",
      "Critical Value (1%)        0.7388\n",
      "dtype: object\n"
     ]
    },
    {
     "name": "stderr",
     "output_type": "stream",
     "text": [
      "C:\\ProgramData\\Anaconda3\\lib\\site-packages\\statsmodels\\tsa\\stattools.py:1278: InterpolationWarning: p-value is greater than the indicated p-value\n",
      "  warn(\"p-value is greater than the indicated p-value\", InterpolationWarning)\n"
     ]
    }
   ],
   "source": [
    "# checking data stationarity for different daily pollutants\n",
    "for each_df in df_list:           # df_list = [df_PM25, df_PM10, df_SO2, df_NO2, df_CO, df_O3]\n",
    "    print('\\n', each_df.columns.values[0],'\\n')\n",
    "    # Apply ADF\n",
    "    adf_test(each_df.values[:,0])\n",
    "    print()\n",
    "    # Apply KPSS\n",
    "    kpss_test(each_df.values[:,0])\n",
    "    "
   ]
  },
  {
   "cell_type": "markdown",
   "metadata": {},
   "source": [
    "#### Result analysis for stationarity of daily pollutants data\n",
    "Most of the pollutants passed both the tests except SO2."
   ]
  },
  {
   "cell_type": "code",
   "execution_count": 82,
   "metadata": {
    "scrolled": true
   },
   "outputs": [
    {
     "name": "stdout",
     "output_type": "stream",
     "text": [
      "\n",
      " PM2.5 \n",
      "\n",
      "Results of Dickey-Fuller Test:\n",
      "Test Statistic                    -4.12531\n",
      "p-value                        0.000879307\n",
      "#Lags Used                               5\n",
      "Number of Observations Used             42\n",
      "Critical Value (1%)                -3.5957\n",
      "Critical Value (5%)                -2.9336\n",
      "Critical Value (10%)               -2.6055\n",
      "dtype: object\n",
      "\n",
      "Results of KPSS Test:\n",
      "Test Statistic           0.177408\n",
      "p-value                       0.1\n",
      "Lags Used                      10\n",
      "Critical Value (10%)       0.3469\n",
      "Critical Value (5%)        0.4629\n",
      "Critical Value (2.5%)      0.5742\n",
      "Critical Value (1%)        0.7388\n",
      "dtype: object\n",
      "\n",
      " PM10 \n",
      "\n",
      "Results of Dickey-Fuller Test:\n",
      "Test Statistic                      -4.266\n",
      "p-value                        0.000508451\n",
      "#Lags Used                               1\n",
      "Number of Observations Used             46\n",
      "Critical Value (1%)                -3.5820\n",
      "Critical Value (5%)                -2.9277\n",
      "Critical Value (10%)               -2.6016\n",
      "dtype: object\n",
      "\n",
      "Results of KPSS Test:\n",
      "Test Statistic           0.175598\n",
      "p-value                       0.1\n",
      "Lags Used                      10\n",
      "Critical Value (10%)       0.3469\n",
      "Critical Value (5%)        0.4629\n",
      "Critical Value (2.5%)      0.5742\n",
      "Critical Value (1%)        0.7388\n",
      "dtype: object\n",
      "\n",
      " SO2 \n",
      "\n",
      "Results of Dickey-Fuller Test:\n",
      "Test Statistic                -1.48516\n",
      "p-value                        0.54084\n",
      "#Lags Used                          10\n",
      "Number of Observations Used         37\n",
      "Critical Value (1%)            -3.6211\n",
      "Critical Value (5%)            -2.9434\n",
      "Critical Value (10%)           -2.6113\n",
      "dtype: object\n",
      "\n",
      "Results of KPSS Test:\n",
      "Test Statistic            0.437897\n",
      "p-value                  0.0608201\n",
      "Lags Used                       10\n",
      "Critical Value (10%)        0.3469\n",
      "Critical Value (5%)         0.4629\n",
      "Critical Value (2.5%)       0.5742\n",
      "Critical Value (1%)         0.7388\n",
      "dtype: object\n",
      "\n",
      " NO2 \n",
      "\n",
      "Results of Dickey-Fuller Test:\n",
      "Test Statistic                     -4.4589\n",
      "p-value                        0.000233141\n",
      "#Lags Used                               3\n",
      "Number of Observations Used             44\n",
      "Critical Value (1%)                -3.5879\n",
      "Critical Value (5%)                -2.9297\n",
      "Critical Value (10%)               -2.6035\n",
      "dtype: object\n",
      "\n",
      "Results of KPSS Test:\n",
      "Test Statistic           0.306638\n",
      "p-value                       0.1\n",
      "Lags Used                      10\n",
      "Critical Value (10%)       0.3469\n",
      "Critical Value (5%)        0.4629\n",
      "Critical Value (2.5%)      0.5742\n",
      "Critical Value (1%)        0.7388\n",
      "dtype: object\n",
      "\n",
      " CO \n",
      "\n",
      "Results of Dickey-Fuller Test:\n",
      "Test Statistic                    -4.31003\n",
      "p-value                        0.000426786\n",
      "#Lags Used                               9\n",
      "Number of Observations Used             38\n",
      "Critical Value (1%)                -3.6152\n",
      "Critical Value (5%)                -2.9414\n",
      "Critical Value (10%)               -2.6094\n",
      "dtype: object\n",
      "\n",
      "Results of KPSS Test:\n",
      "Test Statistic           0.197778\n",
      "p-value                       0.1\n",
      "Lags Used                      10\n",
      "Critical Value (10%)       0.3469\n",
      "Critical Value (5%)        0.4629\n",
      "Critical Value (2.5%)      0.5742\n",
      "Critical Value (1%)        0.7388\n",
      "dtype: object\n",
      "\n",
      " O3 \n",
      "\n",
      "Results of Dickey-Fuller Test:\n",
      "Test Statistic                 -1.96786\n",
      "p-value                        0.300841\n",
      "#Lags Used                           10\n",
      "Number of Observations Used          37\n",
      "Critical Value (1%)             -3.6211\n",
      "Critical Value (5%)             -2.9434\n",
      "Critical Value (10%)            -2.6113\n",
      "dtype: object\n",
      "\n",
      "Results of KPSS Test:\n",
      "Test Statistic           0.226264\n",
      "p-value                       0.1\n",
      "Lags Used                      10\n",
      "Critical Value (10%)       0.3469\n",
      "Critical Value (5%)        0.4629\n",
      "Critical Value (2.5%)      0.5742\n",
      "Critical Value (1%)        0.7388\n",
      "dtype: object\n"
     ]
    },
    {
     "name": "stderr",
     "output_type": "stream",
     "text": [
      "C:\\ProgramData\\Anaconda3\\lib\\site-packages\\statsmodels\\tsa\\stattools.py:1278: InterpolationWarning: p-value is greater than the indicated p-value\n",
      "  warn(\"p-value is greater than the indicated p-value\", InterpolationWarning)\n",
      "C:\\ProgramData\\Anaconda3\\lib\\site-packages\\statsmodels\\tsa\\stattools.py:1278: InterpolationWarning: p-value is greater than the indicated p-value\n",
      "  warn(\"p-value is greater than the indicated p-value\", InterpolationWarning)\n",
      "C:\\ProgramData\\Anaconda3\\lib\\site-packages\\statsmodels\\tsa\\stattools.py:1278: InterpolationWarning: p-value is greater than the indicated p-value\n",
      "  warn(\"p-value is greater than the indicated p-value\", InterpolationWarning)\n",
      "C:\\ProgramData\\Anaconda3\\lib\\site-packages\\statsmodels\\tsa\\stattools.py:1278: InterpolationWarning: p-value is greater than the indicated p-value\n",
      "  warn(\"p-value is greater than the indicated p-value\", InterpolationWarning)\n",
      "C:\\ProgramData\\Anaconda3\\lib\\site-packages\\statsmodels\\tsa\\stattools.py:1278: InterpolationWarning: p-value is greater than the indicated p-value\n",
      "  warn(\"p-value is greater than the indicated p-value\", InterpolationWarning)\n"
     ]
    }
   ],
   "source": [
    "# checking data stationarity for different monthly pollutants\n",
    "for each_df in dfm_list:           # dfm_list = [dfm_PM25, dfm_PM10, dfm_SO2, dfm_NO2, dfm_CO, dfm_O3]\n",
    "    print('\\n', each_df.columns.values[0],'\\n')\n",
    "    # Apply ADF\n",
    "    adf_test(each_df.values[:,0])\n",
    "    print()\n",
    "    # Apply KPSS\n",
    "    kpss_test(each_df.values[:,0])\n",
    "    "
   ]
  },
  {
   "cell_type": "markdown",
   "metadata": {},
   "source": [
    "#### Result analysis for stationarity of monthly pollutants data\n",
    "Most of the pollutants passed both the tests for stationarity except SO2.\n",
    "\n",
    "***Note: There are many other tests for checking stationarity of data like checking mean, covariance, std deviation, acf and pacf plots. We can't tell whether a series is strictly stationary without applying multiple tests. But we'll not go to so much depth. It's important to note that our data may have some seasonal effect. But we will consider our series as fairly stationary for keeping things simple.*** <br><br>Thus we completed data preprocessing We can now proceed furthur."
   ]
  },
  {
   "cell_type": "markdown",
   "metadata": {},
   "source": [
    "### Train-Test Split"
   ]
  },
  {
   "cell_type": "markdown",
   "metadata": {},
   "source": [
    "Now we can slice our data from March-1-2013 to February-29-2016(note 2016 is a leap year) to Train set So that we could use remaining one year data for testing.<br>\n",
    "\n",
    "Let us see what would be the proportion of our train-test data."
   ]
  },
  {
   "cell_type": "code",
   "execution_count": 27,
   "metadata": {},
   "outputs": [
    {
     "data": {
      "text/plain": [
       "0.333029197080292"
      ]
     },
     "execution_count": 27,
     "metadata": {},
     "output_type": "execute_result"
    }
   ],
   "source": [
    "# test size from March-1-2016 to Feb-28-2017 / train size from March-1-2013 to Feb-29-2016\n",
    "df_PM25['2016-03-01':].size / df_PM25[:'2016-02-29'].size"
   ]
  },
  {
   "cell_type": "markdown",
   "metadata": {},
   "source": [
    " So, the Train and Test proportion will roughly be 2/3 and 1/3 respectively. Let's slice our data to create Train and Test datasets.<br>"
   ]
  },
  {
   "cell_type": "code",
   "execution_count": 28,
   "metadata": {},
   "outputs": [],
   "source": [
    "# function for train-test split\n",
    "def train_test_split(dfs, train_end_index = '2016-02-29', test_start_index = '2016-03-01'):\n",
    "    '''\n",
    "        dfs: list of dataframes\n",
    "        train_end_index: last index for train set\n",
    "        test_start_index: starting index for test set\n",
    "        return:  list of tuples containing train-test sets\n",
    "                 Eg: [(train_x1,test_y1), (train_x2, test_y2), .....]\n",
    "        \n",
    "        Note: In slicing DateTimeIndex both start and end index are inclusive\n",
    "    '''\n",
    "    return [(each_df[:train_end_index], each_df[test_start_index:]) for each_df in dfs]\n",
    " "
   ]
  },
  {
   "cell_type": "code",
   "execution_count": 29,
   "metadata": {},
   "outputs": [],
   "source": [
    "# df_list = [df_PM25, df_PM10, df_SO2, df_NO2, df_CO, df_O3]\n",
    "# splitting data of each pollutants into train and test\n",
    "''''\n",
    "[(train_PM25, test_PM25), (train_PM10, test_PM10), (train_SO2, test_SO2),\\\n",
    "(train_NO2, test_NO2), (train_CO, test_CO), (train_O3, test_O3)] = train_test_split(df_list)\n",
    "\n",
    "'''\n",
    "train_test_list = train_test_split(df_list)"
   ]
  },
  {
   "cell_type": "markdown",
   "metadata": {},
   "source": [
    "Lets Test our train_test_split function."
   ]
  },
  {
   "cell_type": "code",
   "execution_count": 30,
   "metadata": {},
   "outputs": [
    {
     "data": {
      "text/plain": [
       "((1096, 1), (365, 1))"
      ]
     },
     "execution_count": 30,
     "metadata": {},
     "output_type": "execute_result"
    }
   ],
   "source": [
    "# lets see the shape of train_PM25 and test_PM25\n",
    "train_PM25 = train_test_list[0][0]\n",
    "test_PM25 = train_test_list[0][1]\n",
    "train_PM25.shape , test_PM25.shape"
   ]
  },
  {
   "cell_type": "code",
   "execution_count": 31,
   "metadata": {
    "scrolled": true
   },
   "outputs": [
    {
     "name": "stdout",
     "output_type": "stream",
     "text": [
      "train_PM25\n",
      "               PM2.5\n",
      "Date-Time           \n",
      "2013-03-01  6.458333\n",
      "                PM2.5\n",
      "Date-Time            \n",
      "2016-02-29  30.708333\n",
      "------------------------\n",
      "test_PM25\n",
      "                 PM2.5\n",
      "Date-Time             \n",
      "2016-03-01  115.458333\n",
      "              PM2.5\n",
      "Date-Time          \n",
      "2017-02-28  17.5625\n"
     ]
    }
   ],
   "source": [
    "# lets see the first and last row of train_PM25\n",
    "print('train_PM25', train_PM25.head(1), train_PM25.tail(1), sep='\\n')\n",
    "print('------------------------')\n",
    "\n",
    "# lets see the first and last row of test_PM25\n",
    "print('test_PM25', test_PM25.head(1), test_PM25.tail(1), sep='\\n')\n"
   ]
  },
  {
   "cell_type": "markdown",
   "metadata": {},
   "source": [
    "As we can see, our train_test_split function worked as expected. Now we can save our Train and Test sets locally. Let us save all training sets in Train directory and Test sets in Test directory.\n",
    "<br><br>***Note: Both Train and Test directories will be inside dataset directory.***"
   ]
  },
  {
   "cell_type": "code",
   "execution_count": 32,
   "metadata": {},
   "outputs": [
    {
     "name": "stdout",
     "output_type": "stream",
     "text": [
      "path created  dataset/train/train_PM2.5.csv\n",
      "path created  dataset/test/test_PM2.5.csv\n",
      "path created  dataset/train/train_PM10.csv\n",
      "path created  dataset/test/test_PM10.csv\n",
      "path created  dataset/train/train_SO2.csv\n",
      "path created  dataset/test/test_SO2.csv\n",
      "path created  dataset/train/train_NO2.csv\n",
      "path created  dataset/test/test_NO2.csv\n",
      "path created  dataset/train/train_CO.csv\n",
      "path created  dataset/test/test_CO.csv\n",
      "path created  dataset/train/train_O3.csv\n",
      "path created  dataset/test/test_O3.csv\n"
     ]
    }
   ],
   "source": [
    "# define train path\n",
    "train_dir = 'dataset/train'\n",
    "# define test path\n",
    "test_dir = 'dataset/test'\n",
    "# create Train directory inside dataset\n",
    "if not os.path.exists(train_dir): os.mkdir(train_dir)\n",
    "# create Test directory inside dataset\n",
    "if not os.path.exists(test_dir): os.mkdir(test_dir)\n",
    "\n",
    "''''\n",
    "train_test_list = \n",
    "[(train_PM25, test_PM25), (train_PM10, test_PM10), (train_SO2, test_SO2),\\\n",
    "(train_NO2, test_NO2), (train_CO, test_CO), (train_O3, test_O3)] \n",
    "\n",
    "'''\n",
    "# save train-test data\n",
    "for each_train_test in train_test_list:\n",
    "    # fetch each train-test file name\n",
    "    filename = each_train_test[0].columns.values[0]\n",
    "    \n",
    "    # saving each train file    Note: It's important to reset the index in order to add Date-Time index as column\n",
    "    (each_train_test[0].reset_index()).to_csv(os.path.join(train_dir, 'train_'+filename+'.csv'), index = False)\n",
    "    \n",
    "    # saving each test file\n",
    "    (each_train_test[1].reset_index()).to_csv(os.path.join(test_dir, 'test_'+filename+'.csv'), index = False)\n",
    "    \n",
    "    print('path created ',train_dir +'/train_'+filename+'.csv')\n",
    "    print('path created ',test_dir+'/test_'+filename+'.csv')"
   ]
  },
  {
   "cell_type": "code",
   "execution_count": 33,
   "metadata": {},
   "outputs": [
    {
     "data": {
      "text/html": [
       "<div>\n",
       "<style scoped>\n",
       "    .dataframe tbody tr th:only-of-type {\n",
       "        vertical-align: middle;\n",
       "    }\n",
       "\n",
       "    .dataframe tbody tr th {\n",
       "        vertical-align: top;\n",
       "    }\n",
       "\n",
       "    .dataframe thead th {\n",
       "        text-align: right;\n",
       "    }\n",
       "</style>\n",
       "<table border=\"1\" class=\"dataframe\">\n",
       "  <thead>\n",
       "    <tr style=\"text-align: right;\">\n",
       "      <th></th>\n",
       "      <th>Date-Time</th>\n",
       "      <th>PM2.5</th>\n",
       "    </tr>\n",
       "  </thead>\n",
       "  <tbody>\n",
       "    <tr>\n",
       "      <th>0</th>\n",
       "      <td>2013-03-01</td>\n",
       "      <td>6.458333</td>\n",
       "    </tr>\n",
       "    <tr>\n",
       "      <th>1</th>\n",
       "      <td>2013-03-02</td>\n",
       "      <td>28.750000</td>\n",
       "    </tr>\n",
       "    <tr>\n",
       "      <th>2</th>\n",
       "      <td>2013-03-03</td>\n",
       "      <td>104.750000</td>\n",
       "    </tr>\n",
       "    <tr>\n",
       "      <th>3</th>\n",
       "      <td>2013-03-04</td>\n",
       "      <td>22.875000</td>\n",
       "    </tr>\n",
       "    <tr>\n",
       "      <th>4</th>\n",
       "      <td>2013-03-05</td>\n",
       "      <td>131.833333</td>\n",
       "    </tr>\n",
       "  </tbody>\n",
       "</table>\n",
       "</div>"
      ],
      "text/plain": [
       "    Date-Time       PM2.5\n",
       "0  2013-03-01    6.458333\n",
       "1  2013-03-02   28.750000\n",
       "2  2013-03-03  104.750000\n",
       "3  2013-03-04   22.875000\n",
       "4  2013-03-05  131.833333"
      ]
     },
     "execution_count": 33,
     "metadata": {},
     "output_type": "execute_result"
    }
   ],
   "source": [
    "# let's test one of the file\n",
    "pd.read_csv('dataset/train/train_PM2.5.csv').head()"
   ]
  },
  {
   "cell_type": "markdown",
   "metadata": {},
   "source": [
    "In next part we will build and fit models with our train-test datasets."
   ]
  },
  {
   "cell_type": "code",
   "execution_count": null,
   "metadata": {},
   "outputs": [],
   "source": []
  }
 ],
 "metadata": {
  "kernelspec": {
   "display_name": "Python 3",
   "language": "python",
   "name": "python3"
  },
  "language_info": {
   "codemirror_mode": {
    "name": "ipython",
    "version": 3
   },
   "file_extension": ".py",
   "mimetype": "text/x-python",
   "name": "python",
   "nbconvert_exporter": "python",
   "pygments_lexer": "ipython3",
   "version": "3.7.1"
  }
 },
 "nbformat": 4,
 "nbformat_minor": 2
}
