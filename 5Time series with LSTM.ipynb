{
 "cells": [
  {
   "cell_type": "markdown",
   "metadata": {},
   "source": [
    "# Part 5: Time Series with Long Short Term Memory(LSTM) \n",
    "# &emsp; &emsp;&emsp;&emsp;&emsp;&emsp;&emsp;&emsp;Recurrent Neural Network\n",
    "\n",
    "<br>\n",
    "\n",
    "In this part we will try to build and train Long Short Term Memory Recurrent Neural Network for our time series data. Let's first take a brief overview of LSTM.<br>\n",
    "\n",
    "Long short-term memory (LSTM) is an artificial recurrent neural network (RNN) architecture used in the field of deep learning. Unlike standard feedforward neural networks, LSTM has feedback connections. It can not only process single data points (such as images), but also entire sequences of data (such as speech or video).<br>\n",
    "\n",
    "Instead of neurons, LSTM networks have memory blocks that are connected through layers.\n",
    "### Why LSTM for Time Series?\n",
    "LSTM networks are well-suited to classifying, processing and making predictions based on time series data, since there can be lags of unknown duration between important events in a time series. LSTMs were developed to deal with the exploding and vanishing gradient problems that can be encountered when training traditional RNNs.\n",
    "<br><br>\n",
    "We will use Keras with Tensorflow at backend for building our Neural Network."
   ]
  },
  {
   "cell_type": "code",
   "execution_count": 1,
   "metadata": {},
   "outputs": [
    {
     "name": "stderr",
     "output_type": "stream",
     "text": [
      "Using TensorFlow backend.\n"
     ]
    }
   ],
   "source": [
    "# import necessary files\n",
    "import pandas as pd\n",
    "from sklearn.preprocessing import MinMaxScaler\n",
    "from keras.models import Sequential\n",
    "from keras.layers import Dense\n",
    "from keras.layers import Dropout\n",
    "from keras.layers import LSTM\n",
    "from keras.preprocessing.sequence import TimeseriesGenerator\n",
    "from math import sqrt\n",
    "import matplotlib.pyplot as plt\n",
    "import numpy as np\n",
    "from sklearn.metrics import mean_squared_error,  mean_absolute_error\n"
   ]
  },
  {
   "attachments": {
    "1_AQKRJsRdWx2HZ85H1yWoKw.png": {
     "image/png": "[encoded data removed]"
    }
   },
   "cell_type": "markdown",
   "metadata": {},
   "source": [
    "### &emsp; &emsp;&emsp;&emsp;&emsp;&emsp;&emsp;&emsp;&emsp;&emsp;&emsp;Selecting Input and Output Shapes in LSTM\n",
    "![1_AQKRJsRdWx2HZ85H1yWoKw.png](attachment:1_AQKRJsRdWx2HZ85H1yWoKw.png)\n",
    "<br>\n",
    "The input data to LSTM looks like the above diagram[[1]](https://medium.com/@shivajbd/understanding-input-and-output-shape-in-lstm-keras-c501ee95c65e).<br><br>\n",
    "<b>Note:</b> We always have to give a three-dimensional array as an input to your LSTM network. Where the first dimension represents the <b>batch size</b>, the second dimension represents the <b>time-steps</b> and the third dimension represents the <b>number of units</b> in one input sequence.\n",
    "For example, the input shape looks like <b>(batch_size, time_steps, seq_len)."
   ]
  },
  {
   "cell_type": "markdown",
   "metadata": {},
   "source": [
    "#### Designing the Architecture of  LSTM neural network"
   ]
  },
  {
   "cell_type": "code",
   "execution_count": 2,
   "metadata": {},
   "outputs": [],
   "source": [
    "# Let's design the Architecture of our LSTM neural network\n",
    "def fit_LSTM(scaled_train_data, time_steps, n_features, batch_size = 6, activation = 'relu', epochs = 350):\n",
    "    ''''\n",
    "        train_data: train data for training the model\n",
    "        test_data: test data for evaluating the model\n",
    "        activation: activation function. Default is 'relu'.\n",
    "        return: lstm model\n",
    "\n",
    "        Note:\n",
    "        1) time_steps: 12 for monthly, 365 for daily data is preffered.\n",
    "        2) batch size: let's keep batch size to any fixed size. We will fix it at 6.\n",
    "    \n",
    "    '''\n",
    "    # define generator object to produce batches for training/validation.\n",
    "    generator = TimeseriesGenerator(data = scaled_train_data, targets = scaled_train_data, length = time_steps, batch_size = batch_size)\n",
    "\n",
    "    # Since we want to build LSTM network, In Keras we can simply stack multiple layers on top of each other,\n",
    "    # for this we need to initialize the model as Sequential().\n",
    "    model = Sequential()\n",
    "\n",
    "    # add input layer. \n",
    "    #           units: We can take units as any no of dimensions(positive) for the outer space.\n",
    "    #           activation: softmax, relu, softsign etc.\n",
    "    model.add(LSTM(units = 200, activation = activation, input_shape = (time_steps, n_features)))\n",
    "\n",
    "    # Dropout: Every LSTM layer should be accompanied by a Dropout layer.\n",
    "    #          20% is often used as a good compromise between retaining model accuracy\n",
    "    #          and preventing overfitting.\n",
    "    model.add(Dropout(0.25))\n",
    "\n",
    "    # add output layer the model. Since our model is making \n",
    "    # single predictions we'll take output layer as 1.\n",
    "    model.add(Dense(1))\n",
    "    # compile the model. Generally we use 'adam' optimiser. Let's take loss as mean square error. \n",
    "    model.compile(optimizer='adam', loss='mse')\n",
    "    # fit the lstm neural network\n",
    "    model.fit_generator(generator, epochs = 350)\n",
    "    \n",
    "    return model"
   ]
  },
  {
   "cell_type": "code",
   "execution_count": 14,
   "metadata": {},
   "outputs": [],
   "source": [
    "# function for predicting data for LSTM\n",
    "def predict_LSTM(scaled_train_data, scaler, train_data, test_data, time_steps, n_features, lstm_model):\n",
    "    '''\n",
    "        scaled_train_data: scaled train data.\n",
    "        scaler: MinMaxScaler object for inverting transformations.\n",
    "        scaled_test_data:  scaled test data.\n",
    "        train_data:  train data.\n",
    "        test_data:   test data.\n",
    "        time_steps: Time steps\n",
    "        n_features: Number of units in one input sequence.\n",
    "        lstm_model: The LSTM model to evaluate.\n",
    "        return : Predicted values.\n",
    "    '''\n",
    "    # for storing predicted values.\n",
    "    pred_list = []\n",
    "    batch = scaled_train_data[-time_steps:].reshape(1, time_steps, n_features)\n",
    "    for i in range(time_steps):\n",
    "        pred_list.append(lstm_model.predict(batch)[0])\n",
    "        batch = np.append(batch[:, 1:,:], [[pred_list[i]]], axis = 1)\n",
    "        \n",
    "    # creating dataframe of predicted values\n",
    "    df_predict = pd.DataFrame(scaler.inverse_transform(pred_list), index=test_data.index, columns = ['Predictions'])\n",
    "    # plotting the results\n",
    "    plt.figure(figsize = (20, 5))\n",
    "    plt.plot(train_data.index, train_data, label = 'Train')\n",
    "    plt.plot(test_data.index, test_data, label = 'Test')\n",
    "    plt.plot(df_predict.index, df_predict, label = 'Prediction')\n",
    "    plt.legend(loc='best', fontsize='xx-large')\n",
    "    \n",
    "    return df_predict"
   ]
  },
  {
   "cell_type": "code",
   "execution_count": 15,
   "metadata": {},
   "outputs": [],
   "source": [
    "# function for evaluating the model\n",
    "def evaluate_LSTM(actual, predicted):\n",
    "    '''\n",
    "        actual: actual values\n",
    "        predicted: predicted values\n",
    "        return: None\n",
    "        \n",
    "        calculates Mean square Error, Mean Absolute error and Root Mean Square Error\n",
    "        \n",
    "    '''\n",
    "    mse = mean_squared_error(actual, predicted)\n",
    "    mae = mean_absolute_error(actual, predicted)\n",
    "    print('The Mean Squared Error of the forecasts is {}'.format(round(mse, 2)))\n",
    "    print('The Mean Absolute Error of the forecasts is {}'.format(round(mae, 2)))\n",
    "    print('The Root Mean Squared Error of the forecasts is {}'.format(np.sqrt(mse)))"
   ]
  },
  {
   "cell_type": "code",
   "execution_count": 16,
   "metadata": {},
   "outputs": [],
   "source": [
    "# Scaling Train-Test data\n",
    "def transform_data(train_data):\n",
    "    '''\n",
    "        train_data: Train data\n",
    "        test_data: Test data\n",
    "        return: (scaled_train_data, scaler)\n",
    "    '''\n",
    "    scaler = MinMaxScaler()\n",
    "    scaler.fit(train_data)\n",
    "    \n",
    "    return scaler.transform(train_data), scaler "
   ]
  },
  {
   "cell_type": "code",
   "execution_count": null,
   "metadata": {},
   "outputs": [],
   "source": []
  }
 ],
 "metadata": {
  "kernelspec": {
   "display_name": "Python 3",
   "language": "python",
   "name": "python3"
  },
  "language_info": {
   "codemirror_mode": {
    "name": "ipython",
    "version": 3
   },
   "file_extension": ".py",
   "mimetype": "text/x-python",
   "name": "python",
   "nbconvert_exporter": "python",
   "pygments_lexer": "ipython3",
   "version": "3.7.1"
  }
 },
 "nbformat": 4,
 "nbformat_minor": 2
}
