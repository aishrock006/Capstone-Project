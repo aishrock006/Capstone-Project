{
 "cells": [
  {
   "cell_type": "markdown",
   "metadata": {},
   "source": [
    "# Part 6 Final Model Evaluation and Prediction\n",
    "In this part we'll conclude all the models that we build during the project.<br>\n",
    "**Remember how we saved every model results in a separate file named with model in result directory.**<br><br>"
   ]
  },
  {
   "cell_type": "code",
   "execution_count": 26,
   "metadata": {},
   "outputs": [],
   "source": [
    "# import libraries\n",
    "import pandas as pd\n",
    "import numpy as np\n",
    "import os\n",
    "import math\n",
    "import glob\n",
    "import matplotlib.pyplot as plt\n",
    "%matplotlib inline\n",
    "from IPython.display import display"
   ]
  },
  {
   "cell_type": "markdown",
   "metadata": {},
   "source": [
    "let's print all the files in result directory."
   ]
  },
  {
   "cell_type": "code",
   "execution_count": 9,
   "metadata": {},
   "outputs": [
    {
     "data": {
      "text/plain": [
       "['holt_winter.csv', 'lstm.csv', 'prophet.csv', 'sarima.csv']"
      ]
     },
     "execution_count": 9,
     "metadata": {},
     "output_type": "execute_result"
    }
   ],
   "source": [
    "# print all the directories\n",
    "os.listdir('result')"
   ]
  },
  {
   "cell_type": "code",
   "execution_count": 7,
   "metadata": {},
   "outputs": [],
   "source": [
    "# let's import all the result files\n",
    "results = [pd.read_csv('result/{}'.format(each_file), dtype = {'EM':str}) for each_file in os.listdir('result')]"
   ]
  },
  {
   "cell_type": "markdown",
   "metadata": {},
   "source": [
    "<b>Note: All files are loaded in this order</b>\n",
    "### results = ['holt_winter.csv', 'lstm.csv', 'prophet.csv', 'sarima.csv']"
   ]
  },
  {
   "cell_type": "code",
   "execution_count": 8,
   "metadata": {},
   "outputs": [
    {
     "data": {
      "text/html": [
       "<div>\n",
       "<style scoped>\n",
       "    .dataframe tbody tr th:only-of-type {\n",
       "        vertical-align: middle;\n",
       "    }\n",
       "\n",
       "    .dataframe tbody tr th {\n",
       "        vertical-align: top;\n",
       "    }\n",
       "\n",
       "    .dataframe thead th {\n",
       "        text-align: right;\n",
       "    }\n",
       "</style>\n",
       "<table border=\"1\" class=\"dataframe\">\n",
       "  <thead>\n",
       "    <tr style=\"text-align: right;\">\n",
       "      <th></th>\n",
       "      <th>EM</th>\n",
       "      <th>PM2.5</th>\n",
       "      <th>PM10</th>\n",
       "      <th>SO2</th>\n",
       "      <th>NO2</th>\n",
       "      <th>CO</th>\n",
       "      <th>O3</th>\n",
       "    </tr>\n",
       "  </thead>\n",
       "  <tbody>\n",
       "    <tr>\n",
       "      <th>0</th>\n",
       "      <td>mse</td>\n",
       "      <td>384.5693</td>\n",
       "      <td>683.2383</td>\n",
       "      <td>577.0584</td>\n",
       "      <td>71.1976</td>\n",
       "      <td>102336.9931</td>\n",
       "      <td>138.0659</td>\n",
       "    </tr>\n",
       "    <tr>\n",
       "      <th>1</th>\n",
       "      <td>mae</td>\n",
       "      <td>13.9932</td>\n",
       "      <td>19.8702</td>\n",
       "      <td>21.9392</td>\n",
       "      <td>6.9431</td>\n",
       "      <td>240.9536</td>\n",
       "      <td>10.9535</td>\n",
       "    </tr>\n",
       "    <tr>\n",
       "      <th>2</th>\n",
       "      <td>rmse</td>\n",
       "      <td>19.6104</td>\n",
       "      <td>26.1388</td>\n",
       "      <td>24.0220</td>\n",
       "      <td>8.4379</td>\n",
       "      <td>319.9015</td>\n",
       "      <td>11.7501</td>\n",
       "    </tr>\n",
       "  </tbody>\n",
       "</table>\n",
       "</div>"
      ],
      "text/plain": [
       "     EM     PM2.5      PM10       SO2      NO2           CO        O3\n",
       "0   mse  384.5693  683.2383  577.0584  71.1976  102336.9931  138.0659\n",
       "1   mae   13.9932   19.8702   21.9392   6.9431     240.9536   10.9535\n",
       "2  rmse   19.6104   26.1388   24.0220   8.4379     319.9015   11.7501"
      ]
     },
     "execution_count": 8,
     "metadata": {},
     "output_type": "execute_result"
    }
   ],
   "source": [
    "# let's see 'holt_winter.csv'\n",
    "results[0]"
   ]
  },
  {
   "cell_type": "code",
   "execution_count": 10,
   "metadata": {},
   "outputs": [
    {
     "data": {
      "text/plain": [
       "[None, None, None, None]"
      ]
     },
     "execution_count": 10,
     "metadata": {},
     "output_type": "execute_result"
    }
   ],
   "source": [
    "# let's index every file by EM\n",
    "[each_file.set_index('EM', inplace = True) for each_file in results]"
   ]
  },
  {
   "cell_type": "code",
   "execution_count": 11,
   "metadata": {},
   "outputs": [
    {
     "data": {
      "text/html": [
       "<div>\n",
       "<style scoped>\n",
       "    .dataframe tbody tr th:only-of-type {\n",
       "        vertical-align: middle;\n",
       "    }\n",
       "\n",
       "    .dataframe tbody tr th {\n",
       "        vertical-align: top;\n",
       "    }\n",
       "\n",
       "    .dataframe thead th {\n",
       "        text-align: right;\n",
       "    }\n",
       "</style>\n",
       "<table border=\"1\" class=\"dataframe\">\n",
       "  <thead>\n",
       "    <tr style=\"text-align: right;\">\n",
       "      <th></th>\n",
       "      <th>PM2.5</th>\n",
       "      <th>PM10</th>\n",
       "      <th>SO2</th>\n",
       "      <th>NO2</th>\n",
       "      <th>CO</th>\n",
       "      <th>O3</th>\n",
       "    </tr>\n",
       "    <tr>\n",
       "      <th>EM</th>\n",
       "      <th></th>\n",
       "      <th></th>\n",
       "      <th></th>\n",
       "      <th></th>\n",
       "      <th></th>\n",
       "      <th></th>\n",
       "    </tr>\n",
       "  </thead>\n",
       "  <tbody>\n",
       "    <tr>\n",
       "      <th>mse</th>\n",
       "      <td>384.5693</td>\n",
       "      <td>683.2383</td>\n",
       "      <td>577.0584</td>\n",
       "      <td>71.1976</td>\n",
       "      <td>102336.9931</td>\n",
       "      <td>138.0659</td>\n",
       "    </tr>\n",
       "    <tr>\n",
       "      <th>mae</th>\n",
       "      <td>13.9932</td>\n",
       "      <td>19.8702</td>\n",
       "      <td>21.9392</td>\n",
       "      <td>6.9431</td>\n",
       "      <td>240.9536</td>\n",
       "      <td>10.9535</td>\n",
       "    </tr>\n",
       "    <tr>\n",
       "      <th>rmse</th>\n",
       "      <td>19.6104</td>\n",
       "      <td>26.1388</td>\n",
       "      <td>24.0220</td>\n",
       "      <td>8.4379</td>\n",
       "      <td>319.9015</td>\n",
       "      <td>11.7501</td>\n",
       "    </tr>\n",
       "  </tbody>\n",
       "</table>\n",
       "</div>"
      ],
      "text/plain": [
       "         PM2.5      PM10       SO2      NO2           CO        O3\n",
       "EM                                                                \n",
       "mse   384.5693  683.2383  577.0584  71.1976  102336.9931  138.0659\n",
       "mae    13.9932   19.8702   21.9392   6.9431     240.9536   10.9535\n",
       "rmse   19.6104   26.1388   24.0220   8.4379     319.9015   11.7501"
      ]
     },
     "execution_count": 11,
     "metadata": {},
     "output_type": "execute_result"
    }
   ],
   "source": [
    "# let's see 'holt_winter.csv' again\n",
    "results[0]"
   ]
  },
  {
   "cell_type": "markdown",
   "metadata": {},
   "source": [
    "Let's print results of all the model's one by one."
   ]
  },
  {
   "cell_type": "code",
   "execution_count": 34,
   "metadata": {
    "scrolled": true
   },
   "outputs": [
    {
     "name": "stdout",
     "output_type": "stream",
     "text": [
      "\n",
      "\tEvaluation metrics for  holt_winter.csv\n"
     ]
    },
    {
     "data": {
      "text/html": [
       "<div>\n",
       "<style scoped>\n",
       "    .dataframe tbody tr th:only-of-type {\n",
       "        vertical-align: middle;\n",
       "    }\n",
       "\n",
       "    .dataframe tbody tr th {\n",
       "        vertical-align: top;\n",
       "    }\n",
       "\n",
       "    .dataframe thead th {\n",
       "        text-align: right;\n",
       "    }\n",
       "</style>\n",
       "<table border=\"1\" class=\"dataframe\">\n",
       "  <thead>\n",
       "    <tr style=\"text-align: right;\">\n",
       "      <th></th>\n",
       "      <th>PM2.5</th>\n",
       "      <th>PM10</th>\n",
       "      <th>SO2</th>\n",
       "      <th>NO2</th>\n",
       "      <th>CO</th>\n",
       "      <th>O3</th>\n",
       "    </tr>\n",
       "    <tr>\n",
       "      <th>EM</th>\n",
       "      <th></th>\n",
       "      <th></th>\n",
       "      <th></th>\n",
       "      <th></th>\n",
       "      <th></th>\n",
       "      <th></th>\n",
       "    </tr>\n",
       "  </thead>\n",
       "  <tbody>\n",
       "    <tr>\n",
       "      <th>mse</th>\n",
       "      <td>384.5693</td>\n",
       "      <td>683.2383</td>\n",
       "      <td>577.0584</td>\n",
       "      <td>71.1976</td>\n",
       "      <td>102336.9931</td>\n",
       "      <td>138.0659</td>\n",
       "    </tr>\n",
       "    <tr>\n",
       "      <th>mae</th>\n",
       "      <td>13.9932</td>\n",
       "      <td>19.8702</td>\n",
       "      <td>21.9392</td>\n",
       "      <td>6.9431</td>\n",
       "      <td>240.9536</td>\n",
       "      <td>10.9535</td>\n",
       "    </tr>\n",
       "    <tr>\n",
       "      <th>rmse</th>\n",
       "      <td>19.6104</td>\n",
       "      <td>26.1388</td>\n",
       "      <td>24.0220</td>\n",
       "      <td>8.4379</td>\n",
       "      <td>319.9015</td>\n",
       "      <td>11.7501</td>\n",
       "    </tr>\n",
       "  </tbody>\n",
       "</table>\n",
       "</div>"
      ],
      "text/plain": [
       "         PM2.5      PM10       SO2      NO2           CO        O3\n",
       "EM                                                                \n",
       "mse   384.5693  683.2383  577.0584  71.1976  102336.9931  138.0659\n",
       "mae    13.9932   19.8702   21.9392   6.9431     240.9536   10.9535\n",
       "rmse   19.6104   26.1388   24.0220   8.4379     319.9015   11.7501"
      ]
     },
     "metadata": {},
     "output_type": "display_data"
    },
    {
     "name": "stdout",
     "output_type": "stream",
     "text": [
      "\n",
      "\tEvaluation metrics for  lstm.csv\n"
     ]
    },
    {
     "data": {
      "text/html": [
       "<div>\n",
       "<style scoped>\n",
       "    .dataframe tbody tr th:only-of-type {\n",
       "        vertical-align: middle;\n",
       "    }\n",
       "\n",
       "    .dataframe tbody tr th {\n",
       "        vertical-align: top;\n",
       "    }\n",
       "\n",
       "    .dataframe thead th {\n",
       "        text-align: right;\n",
       "    }\n",
       "</style>\n",
       "<table border=\"1\" class=\"dataframe\">\n",
       "  <thead>\n",
       "    <tr style=\"text-align: right;\">\n",
       "      <th></th>\n",
       "      <th>PM2.5</th>\n",
       "      <th>PM10</th>\n",
       "      <th>SO2</th>\n",
       "      <th>NO2</th>\n",
       "      <th>CO</th>\n",
       "      <th>O3</th>\n",
       "    </tr>\n",
       "    <tr>\n",
       "      <th>EM</th>\n",
       "      <th></th>\n",
       "      <th></th>\n",
       "      <th></th>\n",
       "      <th></th>\n",
       "      <th></th>\n",
       "      <th></th>\n",
       "    </tr>\n",
       "  </thead>\n",
       "  <tbody>\n",
       "    <tr>\n",
       "      <th>mse</th>\n",
       "      <td>1310.3257</td>\n",
       "      <td>5603.6942</td>\n",
       "      <td>55.5452</td>\n",
       "      <td>443.2149</td>\n",
       "      <td>400684.2145</td>\n",
       "      <td>57.8620</td>\n",
       "    </tr>\n",
       "    <tr>\n",
       "      <th>mae</th>\n",
       "      <td>27.2785</td>\n",
       "      <td>66.4645</td>\n",
       "      <td>5.6853</td>\n",
       "      <td>16.3812</td>\n",
       "      <td>559.9856</td>\n",
       "      <td>5.8887</td>\n",
       "    </tr>\n",
       "    <tr>\n",
       "      <th>rmse</th>\n",
       "      <td>36.1984</td>\n",
       "      <td>74.8578</td>\n",
       "      <td>7.4529</td>\n",
       "      <td>21.0527</td>\n",
       "      <td>632.9962</td>\n",
       "      <td>7.6067</td>\n",
       "    </tr>\n",
       "  </tbody>\n",
       "</table>\n",
       "</div>"
      ],
      "text/plain": [
       "          PM2.5       PM10      SO2       NO2           CO       O3\n",
       "EM                                                                 \n",
       "mse   1310.3257  5603.6942  55.5452  443.2149  400684.2145  57.8620\n",
       "mae     27.2785    66.4645   5.6853   16.3812     559.9856   5.8887\n",
       "rmse    36.1984    74.8578   7.4529   21.0527     632.9962   7.6067"
      ]
     },
     "metadata": {},
     "output_type": "display_data"
    },
    {
     "name": "stdout",
     "output_type": "stream",
     "text": [
      "\n",
      "\tEvaluation metrics for  prophet.csv\n"
     ]
    },
    {
     "data": {
      "text/html": [
       "<div>\n",
       "<style scoped>\n",
       "    .dataframe tbody tr th:only-of-type {\n",
       "        vertical-align: middle;\n",
       "    }\n",
       "\n",
       "    .dataframe tbody tr th {\n",
       "        vertical-align: top;\n",
       "    }\n",
       "\n",
       "    .dataframe thead th {\n",
       "        text-align: right;\n",
       "    }\n",
       "</style>\n",
       "<table border=\"1\" class=\"dataframe\">\n",
       "  <thead>\n",
       "    <tr style=\"text-align: right;\">\n",
       "      <th></th>\n",
       "      <th>PM2.5</th>\n",
       "      <th>PM10</th>\n",
       "      <th>SO2</th>\n",
       "      <th>NO2</th>\n",
       "      <th>CO</th>\n",
       "      <th>O3</th>\n",
       "    </tr>\n",
       "    <tr>\n",
       "      <th>EM</th>\n",
       "      <th></th>\n",
       "      <th></th>\n",
       "      <th></th>\n",
       "      <th></th>\n",
       "      <th></th>\n",
       "      <th></th>\n",
       "    </tr>\n",
       "  </thead>\n",
       "  <tbody>\n",
       "    <tr>\n",
       "      <th>mse</th>\n",
       "      <td>3639.4098</td>\n",
       "      <td>1393.6985</td>\n",
       "      <td>118.7185</td>\n",
       "      <td>117.6427</td>\n",
       "      <td>276937.4953</td>\n",
       "      <td>134.6083</td>\n",
       "    </tr>\n",
       "    <tr>\n",
       "      <th>mae</th>\n",
       "      <td>49.6366</td>\n",
       "      <td>26.4389</td>\n",
       "      <td>9.2936</td>\n",
       "      <td>9.7433</td>\n",
       "      <td>444.4292</td>\n",
       "      <td>9.2992</td>\n",
       "    </tr>\n",
       "    <tr>\n",
       "      <th>rmse</th>\n",
       "      <td>60.3275</td>\n",
       "      <td>37.3323</td>\n",
       "      <td>10.8958</td>\n",
       "      <td>10.8463</td>\n",
       "      <td>526.2485</td>\n",
       "      <td>11.6021</td>\n",
       "    </tr>\n",
       "  </tbody>\n",
       "</table>\n",
       "</div>"
      ],
      "text/plain": [
       "          PM2.5       PM10       SO2       NO2           CO        O3\n",
       "EM                                                                   \n",
       "mse   3639.4098  1393.6985  118.7185  117.6427  276937.4953  134.6083\n",
       "mae     49.6366    26.4389    9.2936    9.7433     444.4292    9.2992\n",
       "rmse    60.3275    37.3323   10.8958   10.8463     526.2485   11.6021"
      ]
     },
     "metadata": {},
     "output_type": "display_data"
    },
    {
     "name": "stdout",
     "output_type": "stream",
     "text": [
      "\n",
      "\tEvaluation metrics for  sarima.csv\n"
     ]
    },
    {
     "data": {
      "text/html": [
       "<div>\n",
       "<style scoped>\n",
       "    .dataframe tbody tr th:only-of-type {\n",
       "        vertical-align: middle;\n",
       "    }\n",
       "\n",
       "    .dataframe tbody tr th {\n",
       "        vertical-align: top;\n",
       "    }\n",
       "\n",
       "    .dataframe thead th {\n",
       "        text-align: right;\n",
       "    }\n",
       "</style>\n",
       "<table border=\"1\" class=\"dataframe\">\n",
       "  <thead>\n",
       "    <tr style=\"text-align: right;\">\n",
       "      <th></th>\n",
       "      <th>PM2.5</th>\n",
       "      <th>PM10</th>\n",
       "      <th>SO2</th>\n",
       "      <th>NO2</th>\n",
       "      <th>CO</th>\n",
       "      <th>O3</th>\n",
       "    </tr>\n",
       "    <tr>\n",
       "      <th>EM</th>\n",
       "      <th></th>\n",
       "      <th></th>\n",
       "      <th></th>\n",
       "      <th></th>\n",
       "      <th></th>\n",
       "      <th></th>\n",
       "    </tr>\n",
       "  </thead>\n",
       "  <tbody>\n",
       "    <tr>\n",
       "      <th>mse</th>\n",
       "      <td>573.5019</td>\n",
       "      <td>1864.3875</td>\n",
       "      <td>160.7442</td>\n",
       "      <td>56.3295</td>\n",
       "      <td>97352.1214</td>\n",
       "      <td>96.2532</td>\n",
       "    </tr>\n",
       "    <tr>\n",
       "      <th>mae</th>\n",
       "      <td>17.2215</td>\n",
       "      <td>36.6267</td>\n",
       "      <td>12.5583</td>\n",
       "      <td>6.5655</td>\n",
       "      <td>231.8601</td>\n",
       "      <td>8.9011</td>\n",
       "    </tr>\n",
       "    <tr>\n",
       "      <th>rmse</th>\n",
       "      <td>23.9479</td>\n",
       "      <td>43.1786</td>\n",
       "      <td>12.6785</td>\n",
       "      <td>7.5053</td>\n",
       "      <td>312.0130</td>\n",
       "      <td>9.8109</td>\n",
       "    </tr>\n",
       "  </tbody>\n",
       "</table>\n",
       "</div>"
      ],
      "text/plain": [
       "         PM2.5       PM10       SO2      NO2          CO       O3\n",
       "EM                                                               \n",
       "mse   573.5019  1864.3875  160.7442  56.3295  97352.1214  96.2532\n",
       "mae    17.2215    36.6267   12.5583   6.5655    231.8601   8.9011\n",
       "rmse   23.9479    43.1786   12.6785   7.5053    312.0130   9.8109"
      ]
     },
     "metadata": {},
     "output_type": "display_data"
    },
    {
     "data": {
      "text/plain": [
       "[(None, None), (None, None), (None, None), (None, None)]"
      ]
     },
     "execution_count": 34,
     "metadata": {},
     "output_type": "execute_result"
    }
   ],
   "source": [
    "[(print('\\n\\tEvaluation metrics for ',os.listdir('result')[i]), display(results[i])) for i in range(len(results))] \n",
    "    "
   ]
  },
  {
   "cell_type": "markdown",
   "metadata": {},
   "source": [
    "## Benchmark model\n",
    "Benchmark model choosen was SARIMA. Let's try to compare it's performance with other models."
   ]
  },
  {
   "cell_type": "code",
   "execution_count": 130,
   "metadata": {},
   "outputs": [
    {
     "name": "stdout",
     "output_type": "stream",
     "text": [
      "\n",
      "PM2.5 Performance with respect to models\n"
     ]
    },
    {
     "data": {
      "text/html": [
       "<div>\n",
       "<style scoped>\n",
       "    .dataframe tbody tr th:only-of-type {\n",
       "        vertical-align: middle;\n",
       "    }\n",
       "\n",
       "    .dataframe tbody tr th {\n",
       "        vertical-align: top;\n",
       "    }\n",
       "\n",
       "    .dataframe thead th {\n",
       "        text-align: right;\n",
       "    }\n",
       "</style>\n",
       "<table border=\"1\" class=\"dataframe\">\n",
       "  <thead>\n",
       "    <tr style=\"text-align: right;\">\n",
       "      <th></th>\n",
       "      <th>holt_winter.csv</th>\n",
       "      <th>lstm.csv</th>\n",
       "      <th>prophet.csv</th>\n",
       "      <th>sarima.csv</th>\n",
       "    </tr>\n",
       "    <tr>\n",
       "      <th>EM</th>\n",
       "      <th></th>\n",
       "      <th></th>\n",
       "      <th></th>\n",
       "      <th></th>\n",
       "    </tr>\n",
       "  </thead>\n",
       "  <tbody>\n",
       "    <tr>\n",
       "      <th>mse</th>\n",
       "      <td>384.5693</td>\n",
       "      <td>1310.3257</td>\n",
       "      <td>3639.4098</td>\n",
       "      <td>573.5019</td>\n",
       "    </tr>\n",
       "    <tr>\n",
       "      <th>mae</th>\n",
       "      <td>13.9932</td>\n",
       "      <td>27.2785</td>\n",
       "      <td>49.6366</td>\n",
       "      <td>17.2215</td>\n",
       "    </tr>\n",
       "    <tr>\n",
       "      <th>rmse</th>\n",
       "      <td>19.6104</td>\n",
       "      <td>36.1984</td>\n",
       "      <td>60.3275</td>\n",
       "      <td>23.9479</td>\n",
       "    </tr>\n",
       "  </tbody>\n",
       "</table>\n",
       "</div>"
      ],
      "text/plain": [
       "      holt_winter.csv   lstm.csv  prophet.csv  sarima.csv\n",
       "EM                                                       \n",
       "mse          384.5693  1310.3257    3639.4098    573.5019\n",
       "mae           13.9932    27.2785      49.6366     17.2215\n",
       "rmse          19.6104    36.1984      60.3275     23.9479"
      ]
     },
     "metadata": {},
     "output_type": "display_data"
    },
    {
     "data": {
      "text/plain": [
       "<matplotlib.axes._subplots.AxesSubplot at 0x1adbc7b8dd8>"
      ]
     },
     "execution_count": 130,
     "metadata": {},
     "output_type": "execute_result"
    },
    {
     "data": {
      "image/png": "[encoded data removed]",
      "text/plain": [
       "<Figure size 720x360 with 1 Axes>"
      ]
     },
     "metadata": {
      "needs_background": "light"
     },
     "output_type": "display_data"
    }
   ],
   "source": [
    "# let's see model wise performance of PM2.5\n",
    "columns = ['EM','holt_winter.csv', 'lstm.csv', 'prophet.csv', 'sarima.csv']\n",
    "print('\\nPM2.5 Performance with respect to models')\n",
    "result_PM25 = pd.concat([each_result['PM2.5'] for each_result in results], axis = 1)\n",
    "result_PM25.columns = os.listdir('result')\n",
    "display(result_PM25)\n",
    "result_PM25[1:].reset_index()[columns].plot(x=\"EM\", kind=\"bar\",figsize = (10,5))"
   ]
  },
  {
   "cell_type": "markdown",
   "metadata": {},
   "source": [
    "- Holt-Winter perform better in detecting PM2.5 than SARIMA, followed by LSTM.\n",
    "- Prophet performs worst in predicting PM2.5."
   ]
  },
  {
   "cell_type": "code",
   "execution_count": 132,
   "metadata": {},
   "outputs": [
    {
     "name": "stdout",
     "output_type": "stream",
     "text": [
      "\n",
      "PM10 Performance with respect to models\n"
     ]
    },
    {
     "data": {
      "text/html": [
       "<div>\n",
       "<style scoped>\n",
       "    .dataframe tbody tr th:only-of-type {\n",
       "        vertical-align: middle;\n",
       "    }\n",
       "\n",
       "    .dataframe tbody tr th {\n",
       "        vertical-align: top;\n",
       "    }\n",
       "\n",
       "    .dataframe thead th {\n",
       "        text-align: right;\n",
       "    }\n",
       "</style>\n",
       "<table border=\"1\" class=\"dataframe\">\n",
       "  <thead>\n",
       "    <tr style=\"text-align: right;\">\n",
       "      <th></th>\n",
       "      <th>holt_winter.csv</th>\n",
       "      <th>lstm.csv</th>\n",
       "      <th>prophet.csv</th>\n",
       "      <th>sarima.csv</th>\n",
       "    </tr>\n",
       "    <tr>\n",
       "      <th>EM</th>\n",
       "      <th></th>\n",
       "      <th></th>\n",
       "      <th></th>\n",
       "      <th></th>\n",
       "    </tr>\n",
       "  </thead>\n",
       "  <tbody>\n",
       "    <tr>\n",
       "      <th>mse</th>\n",
       "      <td>683.2383</td>\n",
       "      <td>5603.6942</td>\n",
       "      <td>1393.6985</td>\n",
       "      <td>1864.3875</td>\n",
       "    </tr>\n",
       "    <tr>\n",
       "      <th>mae</th>\n",
       "      <td>19.8702</td>\n",
       "      <td>66.4645</td>\n",
       "      <td>26.4389</td>\n",
       "      <td>36.6267</td>\n",
       "    </tr>\n",
       "    <tr>\n",
       "      <th>rmse</th>\n",
       "      <td>26.1388</td>\n",
       "      <td>74.8578</td>\n",
       "      <td>37.3323</td>\n",
       "      <td>43.1786</td>\n",
       "    </tr>\n",
       "  </tbody>\n",
       "</table>\n",
       "</div>"
      ],
      "text/plain": [
       "      holt_winter.csv   lstm.csv  prophet.csv  sarima.csv\n",
       "EM                                                       \n",
       "mse          683.2383  5603.6942    1393.6985   1864.3875\n",
       "mae           19.8702    66.4645      26.4389     36.6267\n",
       "rmse          26.1388    74.8578      37.3323     43.1786"
      ]
     },
     "metadata": {},
     "output_type": "display_data"
    },
    {
     "data": {
      "text/plain": [
       "<matplotlib.axes._subplots.AxesSubplot at 0x1adbc8e9630>"
      ]
     },
     "execution_count": 132,
     "metadata": {},
     "output_type": "execute_result"
    },
    {
     "data": {
      "image/png": "[encoded data removed]",
      "text/plain": [
       "<Figure size 720x360 with 1 Axes>"
      ]
     },
     "metadata": {
      "needs_background": "light"
     },
     "output_type": "display_data"
    }
   ],
   "source": [
    "# let's see model wise performance of PM10\n",
    "print('\\nPM10 Performance with respect to models')\n",
    "result_PM10 = pd.concat([each_result['PM10'] for each_result in results], axis = 1)\n",
    "result_PM10.columns = os.listdir('result')\n",
    "display(result_PM10)\n",
    "result_PM10[1:].reset_index()[columns].plot(x=\"EM\", kind=\"bar\",figsize = (10,5))"
   ]
  },
  {
   "cell_type": "markdown",
   "metadata": {},
   "source": [
    "- Holt-Winter perform better in detecting PM10 than prophet, followed by SARIMA.\n",
    "- LSTM performs worst in predicting PM10."
   ]
  },
  {
   "cell_type": "code",
   "execution_count": 133,
   "metadata": {},
   "outputs": [
    {
     "name": "stdout",
     "output_type": "stream",
     "text": [
      "\n",
      "SO2 Performance with respect to models\n"
     ]
    },
    {
     "data": {
      "text/html": [
       "<div>\n",
       "<style scoped>\n",
       "    .dataframe tbody tr th:only-of-type {\n",
       "        vertical-align: middle;\n",
       "    }\n",
       "\n",
       "    .dataframe tbody tr th {\n",
       "        vertical-align: top;\n",
       "    }\n",
       "\n",
       "    .dataframe thead th {\n",
       "        text-align: right;\n",
       "    }\n",
       "</style>\n",
       "<table border=\"1\" class=\"dataframe\">\n",
       "  <thead>\n",
       "    <tr style=\"text-align: right;\">\n",
       "      <th></th>\n",
       "      <th>holt_winter.csv</th>\n",
       "      <th>lstm.csv</th>\n",
       "      <th>prophet.csv</th>\n",
       "      <th>sarima.csv</th>\n",
       "    </tr>\n",
       "    <tr>\n",
       "      <th>EM</th>\n",
       "      <th></th>\n",
       "      <th></th>\n",
       "      <th></th>\n",
       "      <th></th>\n",
       "    </tr>\n",
       "  </thead>\n",
       "  <tbody>\n",
       "    <tr>\n",
       "      <th>mse</th>\n",
       "      <td>577.0584</td>\n",
       "      <td>55.5452</td>\n",
       "      <td>118.7185</td>\n",
       "      <td>160.7442</td>\n",
       "    </tr>\n",
       "    <tr>\n",
       "      <th>mae</th>\n",
       "      <td>21.9392</td>\n",
       "      <td>5.6853</td>\n",
       "      <td>9.2936</td>\n",
       "      <td>12.5583</td>\n",
       "    </tr>\n",
       "    <tr>\n",
       "      <th>rmse</th>\n",
       "      <td>24.0220</td>\n",
       "      <td>7.4529</td>\n",
       "      <td>10.8958</td>\n",
       "      <td>12.6785</td>\n",
       "    </tr>\n",
       "  </tbody>\n",
       "</table>\n",
       "</div>"
      ],
      "text/plain": [
       "      holt_winter.csv  lstm.csv  prophet.csv  sarima.csv\n",
       "EM                                                      \n",
       "mse          577.0584   55.5452     118.7185    160.7442\n",
       "mae           21.9392    5.6853       9.2936     12.5583\n",
       "rmse          24.0220    7.4529      10.8958     12.6785"
      ]
     },
     "metadata": {},
     "output_type": "display_data"
    },
    {
     "data": {
      "text/plain": [
       "<matplotlib.axes._subplots.AxesSubplot at 0x1adbc966978>"
      ]
     },
     "execution_count": 133,
     "metadata": {},
     "output_type": "execute_result"
    },
    {
     "data": {
      "image/png": "[encoded data removed]",
      "text/plain": [
       "<Figure size 720x360 with 1 Axes>"
      ]
     },
     "metadata": {
      "needs_background": "light"
     },
     "output_type": "display_data"
    }
   ],
   "source": [
    "# let's see model wise performance of SO2\n",
    "print('\\nSO2 Performance with respect to models')\n",
    "result_SO2 = pd.concat([each_result['SO2'] for each_result in results], axis = 1)\n",
    "result_SO2.columns = os.listdir('result')\n",
    "display(result_SO2)\n",
    "result_SO2[1:].reset_index()[columns].plot(x=\"EM\", kind=\"bar\",figsize = (10,5))"
   ]
  },
  {
   "cell_type": "markdown",
   "metadata": {},
   "source": [
    "- LSTM perform better in predicting SO2 than Prophet, followed by SARIMA.\n",
    "- Holt-Winter performs worst in predicting SO2."
   ]
  },
  {
   "cell_type": "code",
   "execution_count": 134,
   "metadata": {},
   "outputs": [
    {
     "name": "stdout",
     "output_type": "stream",
     "text": [
      "\n",
      "NO2 Performance with respect to models\n"
     ]
    },
    {
     "data": {
      "text/html": [
       "<div>\n",
       "<style scoped>\n",
       "    .dataframe tbody tr th:only-of-type {\n",
       "        vertical-align: middle;\n",
       "    }\n",
       "\n",
       "    .dataframe tbody tr th {\n",
       "        vertical-align: top;\n",
       "    }\n",
       "\n",
       "    .dataframe thead th {\n",
       "        text-align: right;\n",
       "    }\n",
       "</style>\n",
       "<table border=\"1\" class=\"dataframe\">\n",
       "  <thead>\n",
       "    <tr style=\"text-align: right;\">\n",
       "      <th></th>\n",
       "      <th>holt_winter.csv</th>\n",
       "      <th>lstm.csv</th>\n",
       "      <th>prophet.csv</th>\n",
       "      <th>sarima.csv</th>\n",
       "    </tr>\n",
       "    <tr>\n",
       "      <th>EM</th>\n",
       "      <th></th>\n",
       "      <th></th>\n",
       "      <th></th>\n",
       "      <th></th>\n",
       "    </tr>\n",
       "  </thead>\n",
       "  <tbody>\n",
       "    <tr>\n",
       "      <th>mse</th>\n",
       "      <td>71.1976</td>\n",
       "      <td>443.2149</td>\n",
       "      <td>117.6427</td>\n",
       "      <td>56.3295</td>\n",
       "    </tr>\n",
       "    <tr>\n",
       "      <th>mae</th>\n",
       "      <td>6.9431</td>\n",
       "      <td>16.3812</td>\n",
       "      <td>9.7433</td>\n",
       "      <td>6.5655</td>\n",
       "    </tr>\n",
       "    <tr>\n",
       "      <th>rmse</th>\n",
       "      <td>8.4379</td>\n",
       "      <td>21.0527</td>\n",
       "      <td>10.8463</td>\n",
       "      <td>7.5053</td>\n",
       "    </tr>\n",
       "  </tbody>\n",
       "</table>\n",
       "</div>"
      ],
      "text/plain": [
       "      holt_winter.csv  lstm.csv  prophet.csv  sarima.csv\n",
       "EM                                                      \n",
       "mse           71.1976  443.2149     117.6427     56.3295\n",
       "mae            6.9431   16.3812       9.7433      6.5655\n",
       "rmse           8.4379   21.0527      10.8463      7.5053"
      ]
     },
     "metadata": {},
     "output_type": "display_data"
    },
    {
     "data": {
      "text/plain": [
       "<matplotlib.axes._subplots.AxesSubplot at 0x1adbc9e5588>"
      ]
     },
     "execution_count": 134,
     "metadata": {},
     "output_type": "execute_result"
    },
    {
     "data": {
      "image/png": "[encoded data removed]",
      "text/plain": [
       "<Figure size 720x360 with 1 Axes>"
      ]
     },
     "metadata": {
      "needs_background": "light"
     },
     "output_type": "display_data"
    }
   ],
   "source": [
    "# let's see model wise performance of NO2\n",
    "print('\\nNO2 Performance with respect to models')\n",
    "result_NO2 = pd.concat([each_result['NO2'] for each_result in results], axis = 1)\n",
    "result_NO2.columns = os.listdir('result')\n",
    "display(result_NO2)\n",
    "result_NO2[1:].reset_index()[columns].plot(x=\"EM\", kind=\"bar\",figsize = (10,5))"
   ]
  },
  {
   "cell_type": "markdown",
   "metadata": {},
   "source": [
    "- SARIMA performs better in predicting NO2 than Holt-winter, followed by Prophet.\n",
    "- LSTM performs worst in predicting NO2."
   ]
  },
  {
   "cell_type": "code",
   "execution_count": 135,
   "metadata": {},
   "outputs": [
    {
     "name": "stdout",
     "output_type": "stream",
     "text": [
      "\n",
      "CO Performance with respect to models\n"
     ]
    },
    {
     "data": {
      "text/html": [
       "<div>\n",
       "<style scoped>\n",
       "    .dataframe tbody tr th:only-of-type {\n",
       "        vertical-align: middle;\n",
       "    }\n",
       "\n",
       "    .dataframe tbody tr th {\n",
       "        vertical-align: top;\n",
       "    }\n",
       "\n",
       "    .dataframe thead th {\n",
       "        text-align: right;\n",
       "    }\n",
       "</style>\n",
       "<table border=\"1\" class=\"dataframe\">\n",
       "  <thead>\n",
       "    <tr style=\"text-align: right;\">\n",
       "      <th></th>\n",
       "      <th>holt_winter.csv</th>\n",
       "      <th>lstm.csv</th>\n",
       "      <th>prophet.csv</th>\n",
       "      <th>sarima.csv</th>\n",
       "    </tr>\n",
       "    <tr>\n",
       "      <th>EM</th>\n",
       "      <th></th>\n",
       "      <th></th>\n",
       "      <th></th>\n",
       "      <th></th>\n",
       "    </tr>\n",
       "  </thead>\n",
       "  <tbody>\n",
       "    <tr>\n",
       "      <th>mse</th>\n",
       "      <td>102336.9931</td>\n",
       "      <td>400684.2145</td>\n",
       "      <td>276937.4953</td>\n",
       "      <td>97352.1214</td>\n",
       "    </tr>\n",
       "    <tr>\n",
       "      <th>mae</th>\n",
       "      <td>240.9536</td>\n",
       "      <td>559.9856</td>\n",
       "      <td>444.4292</td>\n",
       "      <td>231.8601</td>\n",
       "    </tr>\n",
       "    <tr>\n",
       "      <th>rmse</th>\n",
       "      <td>319.9015</td>\n",
       "      <td>632.9962</td>\n",
       "      <td>526.2485</td>\n",
       "      <td>312.0130</td>\n",
       "    </tr>\n",
       "  </tbody>\n",
       "</table>\n",
       "</div>"
      ],
      "text/plain": [
       "      holt_winter.csv     lstm.csv  prophet.csv  sarima.csv\n",
       "EM                                                         \n",
       "mse       102336.9931  400684.2145  276937.4953  97352.1214\n",
       "mae          240.9536     559.9856     444.4292    231.8601\n",
       "rmse         319.9015     632.9962     526.2485    312.0130"
      ]
     },
     "metadata": {},
     "output_type": "display_data"
    },
    {
     "data": {
      "text/plain": [
       "<matplotlib.axes._subplots.AxesSubplot at 0x1adbc975d68>"
      ]
     },
     "execution_count": 135,
     "metadata": {},
     "output_type": "execute_result"
    },
    {
     "data": {
      "image/png": "[encoded data removed]",
      "text/plain": [
       "<Figure size 720x360 with 1 Axes>"
      ]
     },
     "metadata": {
      "needs_background": "light"
     },
     "output_type": "display_data"
    }
   ],
   "source": [
    "# let's see model wise performance of CO\n",
    "print('\\nCO Performance with respect to models')\n",
    "result_CO = pd.concat([each_result['CO'] for each_result in results], axis = 1)\n",
    "result_CO.columns = os.listdir('result')\n",
    "display(result_CO)\n",
    "result_CO[1:].reset_index()[columns].plot(x=\"EM\", kind=\"bar\",figsize = (10,5))"
   ]
  },
  {
   "cell_type": "markdown",
   "metadata": {},
   "source": [
    "- SARIMA performs better in predicting CO than Holt-winter, followed by Prophet.\n",
    "- LSTM performs worst in predicting CO."
   ]
  },
  {
   "cell_type": "code",
   "execution_count": 136,
   "metadata": {},
   "outputs": [
    {
     "name": "stdout",
     "output_type": "stream",
     "text": [
      "\n",
      "O3 Performance with respect to models\n"
     ]
    },
    {
     "data": {
      "text/html": [
       "<div>\n",
       "<style scoped>\n",
       "    .dataframe tbody tr th:only-of-type {\n",
       "        vertical-align: middle;\n",
       "    }\n",
       "\n",
       "    .dataframe tbody tr th {\n",
       "        vertical-align: top;\n",
       "    }\n",
       "\n",
       "    .dataframe thead th {\n",
       "        text-align: right;\n",
       "    }\n",
       "</style>\n",
       "<table border=\"1\" class=\"dataframe\">\n",
       "  <thead>\n",
       "    <tr style=\"text-align: right;\">\n",
       "      <th></th>\n",
       "      <th>holt_winter.csv</th>\n",
       "      <th>lstm.csv</th>\n",
       "      <th>prophet.csv</th>\n",
       "      <th>sarima.csv</th>\n",
       "    </tr>\n",
       "    <tr>\n",
       "      <th>EM</th>\n",
       "      <th></th>\n",
       "      <th></th>\n",
       "      <th></th>\n",
       "      <th></th>\n",
       "    </tr>\n",
       "  </thead>\n",
       "  <tbody>\n",
       "    <tr>\n",
       "      <th>mse</th>\n",
       "      <td>138.0659</td>\n",
       "      <td>57.8620</td>\n",
       "      <td>134.6083</td>\n",
       "      <td>96.2532</td>\n",
       "    </tr>\n",
       "    <tr>\n",
       "      <th>mae</th>\n",
       "      <td>10.9535</td>\n",
       "      <td>5.8887</td>\n",
       "      <td>9.2992</td>\n",
       "      <td>8.9011</td>\n",
       "    </tr>\n",
       "    <tr>\n",
       "      <th>rmse</th>\n",
       "      <td>11.7501</td>\n",
       "      <td>7.6067</td>\n",
       "      <td>11.6021</td>\n",
       "      <td>9.8109</td>\n",
       "    </tr>\n",
       "  </tbody>\n",
       "</table>\n",
       "</div>"
      ],
      "text/plain": [
       "      holt_winter.csv  lstm.csv  prophet.csv  sarima.csv\n",
       "EM                                                      \n",
       "mse          138.0659   57.8620     134.6083     96.2532\n",
       "mae           10.9535    5.8887       9.2992      8.9011\n",
       "rmse          11.7501    7.6067      11.6021      9.8109"
      ]
     },
     "metadata": {},
     "output_type": "display_data"
    },
    {
     "data": {
      "text/plain": [
       "<matplotlib.axes._subplots.AxesSubplot at 0x1adbca73128>"
      ]
     },
     "execution_count": 136,
     "metadata": {},
     "output_type": "execute_result"
    },
    {
     "data": {
      "image/png": "[encoded data removed]",
      "text/plain": [
       "<Figure size 720x360 with 1 Axes>"
      ]
     },
     "metadata": {
      "needs_background": "light"
     },
     "output_type": "display_data"
    }
   ],
   "source": [
    "# let's see model wise performance of O3\n",
    "print('\\nO3 Performance with respect to models')\n",
    "result_O3 = pd.concat([each_result['O3'] for each_result in results], axis = 1)\n",
    "result_O3.columns = os.listdir('result')\n",
    "display(result_O3)\n",
    "result_O3[1:].reset_index()[columns].plot(x=\"EM\", kind=\"bar\",figsize = (10,5))"
   ]
  },
  {
   "cell_type": "markdown",
   "metadata": {},
   "source": [
    "- LSTM performs better in predicting O3 than SARIMA, followed by Prophet.\n",
    "- Holt-Winter performs worst in predicting O3."
   ]
  },
  {
   "cell_type": "markdown",
   "metadata": {},
   "source": [
    "## Summary\n",
    "<br>\n",
    "\n",
    "- PM2.5 best fit : Holt-Winter<br><br>\n",
    "- PM10 best fit  : Holt-Winter<br><br>\n",
    "- SO2 best fit   : LSTM<br><br>\n",
    "- NO2 best fit   : SARIMA<br><br>\n",
    "- CO best fit    : SARIMA<br><br>\n",
    "- O3 best fit    : LSTM<br><br>\n",
    "   \n",
    "  \n",
    "## Conclusion\n",
    "   \n",
    "Our selected benchmark model SARIMA was able to beat other models only in case of NO2 and CO. On the other hand, LSTM  beat our Benchmark model in case of SO2 and O3.<br><br>\n",
    "   In this Time Series Analysis project, I just make an attempt to fit these models on real-time data as best as I can. There are still lots of aspects related to these models that are left uncovered due to limited time constraint. Like Hyperparameter Training,  checking multiple methods for stationary data, series decomposition analysis, trend and seasonality analysis etc.<br><br>\n",
    "   These aspects affects greatly to the performance of the models and contrary takes much more time to tune and apply in real time. That's all for the conclusion part. <br>\n",
    "   Now we will look at some Future Scope that may improve the project<br>"
   ]
  },
  {
   "cell_type": "markdown",
   "metadata": {},
   "source": [
    "## Future Scope\n",
    "- Hyperparameter Tuning\n",
    "- Forecasting future predictions after achieving good performance score.\n",
    "- Calculate AQI Index after accurately predicting all the pollutants.\n",
    "- Deploy the Application to make predictions in real time.\n",
    "<br>\n",
    "<br>\n",
    "<br>\n",
    "<br>\n",
    "Happy Coding..!"
   ]
  },
  {
   "cell_type": "markdown",
   "metadata": {},
   "source": [
    "### References:\n",
    "1) [An end to end project on time series analysis and forecasting](https://towardsdatascience.com/an-end-to-end-project-on-time-series-analysis-and-forecasting-with-python-4835e6bf050b) <br>\n",
    "2) [FBProphet](https://www.google.com/search?sxsrf=ALeKk01YKsxIDo-AuPRR01NvOGeTNqo8eQ%3A1582574836580&ei=9CxUXtKWI8uf4-EP85uVcA&q=prophet+facebook+wikipedia&oq=prophet+facebook+wi&gs_l=psy-ab.1.1.0j0i22i30l3.17066.19551..21671...0.2..0.435.927.2-2j0j1......0....1..gws-wiz.......0i71j0i67j0i20i263.1ym1Jo8udIk) <br>\n",
    "3) [Holt-Winters, SARIMA, FBProphet](https://towardsdatascience.com/a-quick-run-through-of-holt-winters-sarima-and-fb-prophet-c6370c6f32f1) <br>\n",
    "4) [LSTM](https://www.analyticsvidhya.com/blog/2017/12/fundamentals-of-deep-learning-introduction-to-lstm/) <br>\n",
    "5) [Time series with keras](https://machinelearningmastery.com/time-series-prediction-lstm-recurrent-neural-networks-python-keras/) <br>\n",
    "6) [Understanding Input and Output shape in lstm](https://medium.com/@shivajbd/understanding-input-and-output-shape-in-lstm-keras-c501ee95c65e)"
   ]
  },
  {
   "cell_type": "code",
   "execution_count": null,
   "metadata": {},
   "outputs": [],
   "source": []
  }
 ],
 "metadata": {
  "kernelspec": {
   "display_name": "Python 3",
   "language": "python",
   "name": "python3"
  },
  "language_info": {
   "codemirror_mode": {
    "name": "ipython",
    "version": 3
   },
   "file_extension": ".py",
   "mimetype": "text/x-python",
   "name": "python",
   "nbconvert_exporter": "python",
   "pygments_lexer": "ipython3",
   "version": "3.7.1"
  }
 },
 "nbformat": 4,
 "nbformat_minor": 2
}
