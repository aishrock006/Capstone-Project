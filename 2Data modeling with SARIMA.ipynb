{
 "cells": [
  {
   "cell_type": "markdown",
   "metadata": {},
   "source": [
    "# Part 2: Data Modeling with Seasonal ARIMA (SARIMA)"
   ]
  },
  {
   "cell_type": "markdown",
   "metadata": {},
   "source": [
    "In this part we will model one of the most popular Time-Series Forecasting model SARIMA, which is the subset of ARIMA.<br>\n",
    "\n",
    "#   &emsp; &emsp;    A R I M A &emsp; ==> &emsp;    AR   &emsp;     &emsp;     +     &emsp;   &emsp;  MA\n",
    "\n",
    "###                              &emsp;      &emsp;&emsp;&emsp;&emsp;&emsp;  &emsp;&emsp;&emsp;&emsp;&emsp;&emsp;&emsp;  (Auto Regression)    &emsp;     &emsp;    (Moving Average)\n",
    "<H3>    &emsp; &emsp;&emsp;       I ==>    Integration </H3>\n",
    "\n",
    "\n",
    "\n"
   ]
  },
  {
   "cell_type": "markdown",
   "metadata": {},
   "source": [
    "### Autoregression (AR)\n",
    "The autoregression (AR) method models the next step in the sequence as a linear function of the observations at prior time steps.<br>\n",
    "\n",
    "### Moving Average (MA)\n",
    "A moving average (rolling average or running average) is a calculation to analyze data points by creating a series of averages of different subsets of the full data set. It is also called a moving mean (MM) or rolling mean and is a type of finite impulse response filter.\n",
    "\n",
    "### Integration (I)\n",
    "To make the time series stationary (by removing the Trends) by measuring the differences of observations at different time.\n",
    "\n",
    "\n",
    "### Why not  ARIMA?\n",
    "Although, Trends from the data can be removed by ARIMA model. But the series can still have seasonal component. Since, our data may have slight seasonal component So we will use SARIMA instead of ARIMA.\n",
    "<br>\n",
    "\n",
    "### SARIMA\n",
    "<br>\n",
    "Seasonal Autoregressive Integrated Moving Average, SARIMA or Seasonal ARIMA, is an extension of ARIMA that explicitly supports univariate time series data with a seasonal component.\n",
    "<br>\n",
    "\n",
    "***notation: <b>SARIMA(p,d,q)(P,D,Q,m)</b>*** <br><br>\n",
    "Here (p,d,q) are Trend parameters and (P,D,Q,M) are seasonal parameters. Let's explore these parameters.<br>\n",
    "<br><b>Trend parameter<br></b>\n",
    "p: Trend autoregression order.<br>\n",
    "d: Trend difference order.<br>\n",
    "q: Trend moving average order.<br>\n",
    "<br><b>Seasonal Parameter:<br></b>\n",
    "P: Seasonal autoregressive order.<br>\n",
    "D: Seasonal difference order.<br>\n",
    "Q: Seasonal moving average order.<br>\n",
    "m: The number of time steps for a single seasonal period.\n"
   ]
  },
  {
   "cell_type": "markdown",
   "metadata": {},
   "source": []
  },
  {
   "cell_type": "code",
   "execution_count": 1,
   "metadata": {},
   "outputs": [],
   "source": [
    "# load datasets\n"
   ]
  },
  {
   "cell_type": "code",
   "execution_count": null,
   "metadata": {},
   "outputs": [],
   "source": []
  },
  {
   "cell_type": "code",
   "execution_count": null,
   "metadata": {},
   "outputs": [],
   "source": []
  }
 ],
 "metadata": {
  "kernelspec": {
   "display_name": "Python 3",
   "language": "python",
   "name": "python3"
  },
  "language_info": {
   "codemirror_mode": {
    "name": "ipython",
    "version": 3
   },
   "file_extension": ".py",
   "mimetype": "text/x-python",
   "name": "python",
   "nbconvert_exporter": "python",
   "pygments_lexer": "ipython3",
   "version": "3.7.1"
  }
 },
 "nbformat": 4,
 "nbformat_minor": 2
}
